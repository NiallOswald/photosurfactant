{
 "cells": [
  {
   "cell_type": "code",
   "execution_count": 1,
   "metadata": {},
   "outputs": [],
   "source": [
    "import numpy as np\n",
    "import matplotlib.pyplot as plt"
   ]
  },
  {
   "cell_type": "code",
   "execution_count": 15,
   "metadata": {},
   "outputs": [],
   "source": [
    "# Numerical parameters\n",
    "eps = 1e-12"
   ]
  },
  {
   "cell_type": "markdown",
   "metadata": {},
   "source": [
    "## Global Parameters"
   ]
  },
  {
   "cell_type": "code",
   "execution_count": 2,
   "metadata": {},
   "outputs": [
    {
     "name": "stdout",
     "output_type": "stream",
     "text": [
      "30.0 30.0\n"
     ]
    }
   ],
   "source": [
    "# Non-dimensional parameters\n",
    "# Damkohler numbers\n",
    "Dam_tr = 1.0\n",
    "Dam_ci = 1.0\n",
    "\n",
    "# Peclet numbers\n",
    "Pen_tr = 10.0\n",
    "Pen_ci = 10.0\n",
    "\n",
    "# Biot numbers\n",
    "Bit_tr = 1.0e3\n",
    "Bit_ci = 3.33\n",
    "\n",
    "# Switching rate\n",
    "k_tr = 1.0\n",
    "k_ci = 30 * k_tr\n",
    "\n",
    "chi_tr = 30.0\n",
    "chi_ci = 1.0\n",
    "\n",
    "print(k_tr * chi_tr, k_ci * chi_ci)\n",
    "\n",
    "assert k_tr * chi_tr == k_ci * chi_ci"
   ]
  },
  {
   "cell_type": "code",
   "execution_count": 3,
   "metadata": {},
   "outputs": [],
   "source": [
    "# Other parameters\n",
    "# Length of the cell\n",
    "L = 1.0"
   ]
  },
  {
   "cell_type": "markdown",
   "metadata": {},
   "source": [
    "## Leading Order"
   ]
  },
  {
   "cell_type": "markdown",
   "metadata": {},
   "source": [
    "### Setting Additional Parameters"
   ]
  },
  {
   "cell_type": "code",
   "execution_count": 4,
   "metadata": {},
   "outputs": [],
   "source": [
    "# Setup required parameters\n",
    "alpha = Dam_ci / Dam_tr\n",
    "eta = Pen_tr / Pen_ci\n",
    "zeta = Pen_tr * Dam_tr + Pen_ci * Dam_ci\n",
    "beta = Bit_tr / Bit_ci\n",
    "xi = Pen_ci * Bit_tr\n",
    "phi = Dam_tr / Bit_tr"
   ]
  },
  {
   "cell_type": "markdown",
   "metadata": {},
   "source": [
    "### Apply Boundary Conditions"
   ]
  },
  {
   "cell_type": "code",
   "execution_count": 5,
   "metadata": {},
   "outputs": [],
   "source": [
    "# Quadratic coefficients\n",
    "a = (\n",
    "    ((eta - 1) / np.sqrt(zeta)) * np.sinh(np.sqrt(zeta)) * np.cosh(np.sqrt(zeta))\n",
    "    * (eta * (xi * (1 + alpha) * beta + 1) * k_tr - (xi * (1 + alpha) + 1) * k_ci)\n",
    ")\n",
    "\n",
    "b = (\n",
    "    (1 + alpha) * np.cosh(np.sqrt(zeta))\n",
    "    * (eta * (xi * (1 + alpha) * beta + 1) * k_tr - (xi * (1 + alpha) + 1) * k_ci)\n",
    "    + ((eta - 1) / np.sqrt(zeta)) * np.sinh(np.sqrt(zeta))\n",
    "    * (alpha * (xi * (1 + alpha) * beta + 1) * k_tr + (xi * (1 + alpha) + 1) * k_ci)\n",
    ")\n",
    "\n",
    "c = (1 + alpha) * (alpha * (xi * (1 + alpha) * beta + 1) * k_tr + (xi * (1 + alpha) + 1) * k_ci)\n",
    "\n",
    "d = (\n",
    "    ((eta - 1) / np.sqrt(zeta)) * np.sinh(np.sqrt(zeta))\n",
    "    + (1 / (chi_tr * k_tr) - 1 / (2 * L)) * np.cosh(np.sqrt(zeta))\n",
    "    * (eta * (xi * (1 + alpha) * beta + 1) * k_tr - (xi * (1 + alpha) + 1) * k_ci)\n",
    ")\n",
    "\n",
    "e = (\n",
    "    (1 + alpha)\n",
    "    + (1 / (chi_tr * k_tr) - 1 / (2 * L))\n",
    "    * (alpha * (xi * (1 + alpha) * beta + 1) * k_tr + (xi * (1 + alpha) + 1) * k_ci)\n",
    ")\n",
    "\n",
    "f = -1 / (2 * L)\n",
    "\n",
    "p = (\n",
    "    chi_ci * k_ci * np.sqrt(zeta) * np.sinh(np.sqrt(zeta)) * np.cosh(np.sqrt(zeta))\n",
    "    * (\n",
    "        ((1 + alpha) / xi) * (k_tr * beta * eta - k_ci)\n",
    "        + ((alpha + eta) / zeta) * (k_tr * eta - k_ci)\n",
    "    )\n",
    ")\n",
    "\n",
    "q = (\n",
    "    chi_ci * k_ci * np.sqrt(zeta) * np.sinh(np.sqrt(zeta))\n",
    "    * (\n",
    "        alpha * k_tr * (((1 + alpha) * beta) / xi + (alpha + eta) / zeta)\n",
    "        + k_ci * ((1 + alpha) / xi + (alpha + eta) / zeta)\n",
    "    )\n",
    ")\n",
    "\n",
    "r = (\n",
    "    chi_ci * k_ci * np.sqrt(zeta) * np.sinh(np.sqrt(zeta))\n",
    "    * ((1 + alpha * beta) / xi + (alpha + eta) / zeta)\n",
    "    + np.cosh(np.sqrt(zeta)) * (eta * k_tr + alpha * k_ci)\n",
    ")\n",
    "\n",
    "s = alpha * (k_tr - k_ci)"
   ]
  },
  {
   "cell_type": "code",
   "execution_count": 7,
   "metadata": {},
   "outputs": [
    {
     "name": "stdout",
     "output_type": "stream",
     "text": [
      "[ 7.61431154e-03  2.26116489e-03  1.21477049e-03 -1.48838893e-09]\n"
     ]
    }
   ],
   "source": [
    "# Solve for B_1\n",
    "poly = np.poly1d([\n",
    "    a * q**2 - b * p * q + c * p**2,\n",
    "    2 * a * q * s - b * p * s - b * q * r + 2 * c * p * r + d * q**2 - e * p * q,\n",
    "    a * s**2 - b * r * s + c * r**2 + 2 * d * q * s - e * p * s - e * q * r + f * q**2,\n",
    "    d * s**2 - e * r * s + 2 * f * q * s,\n",
    "    f * s**2\n",
    "])\n",
    "roots = poly.r\n",
    "print(roots)"
   ]
  },
  {
   "cell_type": "code",
   "execution_count": 22,
   "metadata": {},
   "outputs": [],
   "source": [
    "# Select a root\n",
    "B_1 = roots[2]"
   ]
  },
  {
   "cell_type": "code",
   "execution_count": 23,
   "metadata": {},
   "outputs": [],
   "source": [
    "# Solve for B_0\n",
    "B_0 = -(p * B_1**2 + r * B_1) / (q * B_1 + s)"
   ]
  },
  {
   "cell_type": "markdown",
   "metadata": {},
   "source": [
    "### Solutions to Leading Order"
   ]
  },
  {
   "cell_type": "code",
   "execution_count": 24,
   "metadata": {},
   "outputs": [
    {
     "name": "stdout",
     "output_type": "stream",
     "text": [
      "0.054983506446800876 0.7995411048960009\n"
     ]
    }
   ],
   "source": [
    "# Bulk concentrations\n",
    "def c_tr(y):\n",
    "    return alpha * B_0 + eta * B_1 * np.cosh(y * np.sqrt(zeta))\n",
    "\n",
    "def c_ci(y):\n",
    "    return B_0 - B_1 * np.cosh(y * np.sqrt(zeta))\n",
    "\n",
    "# Surface concentrations\n",
    "Delta = phi * (1 + alpha) * (beta * k_tr * c_tr(1) + k_ci * c_ci(1)) + k_tr * c_tr(1) + k_ci * c_ci(1) + 1\n",
    "\n",
    "gamma_tr = (phi * (beta * k_tr * c_tr(1) + k_ci * c_ci(1)) * alpha + k_tr * c_tr(1)) / Delta\n",
    "\n",
    "gamma_ci = (phi * (beta * k_tr * c_tr(1) + k_ci * c_ci(1)) + k_ci * c_ci(1)) / Delta\n",
    "\n",
    "assert abs((gamma_tr + gamma_ci) - (1 - 1 / Delta)) < eps\n",
    "\n",
    "print(gamma_tr, gamma_ci)"
   ]
  },
  {
   "cell_type": "markdown",
   "metadata": {},
   "source": [
    "### Solution Plots to Leading Order"
   ]
  },
  {
   "cell_type": "code",
   "execution_count": 25,
   "metadata": {},
   "outputs": [
    {
     "data": {
      "image/png": "[encoded data removed]",
      "text/plain": [
       "<Figure size 640x480 with 1 Axes>"
      ]
     },
     "metadata": {},
     "output_type": "display_data"
    }
   ],
   "source": [
    "yy = np.linspace(0, 1, 100)\n",
    "\n",
    "plt.plot(yy, c_tr(yy), label=\"c_tr\")\n",
    "plt.plot(yy, c_ci(yy), label=\"c_ci\")\n",
    "plt.legend()\n",
    "plt.show()"
   ]
  },
  {
   "cell_type": "markdown",
   "metadata": {},
   "source": [
    "## First Order"
   ]
  },
  {
   "cell_type": "code",
   "execution_count": null,
   "metadata": {},
   "outputs": [],
   "source": []
  }
 ],
 "metadata": {
  "kernelspec": {
   "display_name": "m4r_venv",
   "language": "python",
   "name": "python3"
  },
  "language_info": {
   "codemirror_mode": {
    "name": "ipython",
    "version": 3
   },
   "file_extension": ".py",
   "mimetype": "text/x-python",
   "name": "python",
   "nbconvert_exporter": "python",
   "pygments_lexer": "ipython3",
   "version": "3.11.1"
  }
 },
 "nbformat": 4,
 "nbformat_minor": 2
}
