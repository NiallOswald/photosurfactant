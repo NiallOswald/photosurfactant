{
 "cells": [
  {
   "cell_type": "code",
   "execution_count": 260,
   "metadata": {},
   "outputs": [],
   "source": [
    "import numpy as np\n",
    "import matplotlib.pyplot as plt"
   ]
  },
  {
   "cell_type": "code",
   "execution_count": 261,
   "metadata": {},
   "outputs": [],
   "source": [
    "# Numerical parameters\n",
    "eps = 1e-12"
   ]
  },
  {
   "cell_type": "markdown",
   "metadata": {},
   "source": [
    "## Global Parameters"
   ]
  },
  {
   "cell_type": "code",
   "execution_count": 262,
   "metadata": {},
   "outputs": [
    {
     "name": "stdout",
     "output_type": "stream",
     "text": [
      "30.0 30.0\n"
     ]
    }
   ],
   "source": [
    "# Non-dimensional parameters\n",
    "# Damkohler numbers\n",
    "Dam_tr = 1.0\n",
    "Dam_ci = 1.4\n",
    "\n",
    "# Peclet numbers\n",
    "Pen_tr = 10.0\n",
    "Pen_ci = 15.0\n",
    "\n",
    "Pen_tr_s = 10.0\n",
    "Pen_ci_s = 15.0\n",
    "\n",
    "# Biot numbers\n",
    "Bit_tr = 1.0e3\n",
    "Bit_ci = 3.33\n",
    "\n",
    "# Marangoni numbers\n",
    "Man = 1.03\n",
    "\n",
    "# Switching rate\n",
    "k_tr = 1.0\n",
    "k_ci = 30 * k_tr\n",
    "\n",
    "chi_tr = 30.0\n",
    "chi_ci = 1.0\n",
    "\n",
    "print(k_tr * chi_tr, k_ci * chi_ci)\n",
    "\n",
    "assert k_tr * chi_tr == k_ci * chi_ci"
   ]
  },
  {
   "cell_type": "code",
   "execution_count": 263,
   "metadata": {},
   "outputs": [],
   "source": [
    "# Other parameters\n",
    "# Length of the cell\n",
    "L = 1.0\n",
    "\n",
    "# Light intensity\n",
    "def f_1(x):\n",
    "    return np.sin(x) + 2 * np.sin(3 * x)\n",
    "\n",
    "def f_h(omega):\n",
    "    return np.array([1.0, 0.0, 2.0, 0.0, 0.0])\n",
    "    "
   ]
  },
  {
   "cell_type": "markdown",
   "metadata": {},
   "source": [
    "## Leading Order"
   ]
  },
  {
   "cell_type": "markdown",
   "metadata": {},
   "source": [
    "### Setting Additional Parameters"
   ]
  },
  {
   "cell_type": "code",
   "execution_count": 264,
   "metadata": {},
   "outputs": [],
   "source": [
    "# Setup required parameters\n",
    "alpha = Dam_ci / Dam_tr\n",
    "eta = Pen_tr / Pen_ci\n",
    "zeta = Pen_tr * Dam_tr + Pen_ci * Dam_ci\n",
    "beta = Bit_tr / Bit_ci\n",
    "xi = Pen_ci * Bit_tr\n",
    "nu = Dam_tr / Bit_tr"
   ]
  },
  {
   "cell_type": "markdown",
   "metadata": {},
   "source": [
    "### Apply Boundary Conditions"
   ]
  },
  {
   "cell_type": "code",
   "execution_count": 265,
   "metadata": {},
   "outputs": [],
   "source": [
    "# Define matrices\n",
    "U = np.array([\n",
    "    [alpha, eta],\n",
    "    [1, -1]\n",
    "])"
   ]
  },
  {
   "cell_type": "code",
   "execution_count": 266,
   "metadata": {},
   "outputs": [],
   "source": [
    "# Quadratic coefficients\n",
    "a = (\n",
    "    ((eta - 1) / np.sqrt(zeta)) * np.sinh(np.sqrt(zeta)) * np.cosh(np.sqrt(zeta))\n",
    "    * (eta * (nu * (1 + alpha) * beta + 1) * k_tr - (nu * (1 + alpha) + 1) * k_ci)\n",
    ")\n",
    "\n",
    "b = (\n",
    "    (1 + alpha) * np.cosh(np.sqrt(zeta))\n",
    "    * (eta * (nu * (1 + alpha) * beta + 1) * k_tr - (nu * (1 + alpha) + 1) * k_ci)\n",
    "    + ((eta - 1) / np.sqrt(zeta)) * np.sinh(np.sqrt(zeta))\n",
    "    * (alpha * (nu * (1 + alpha) * beta + 1) * k_tr + (nu * (1 + alpha) + 1) * k_ci)\n",
    ")\n",
    "\n",
    "c = (1 + alpha) * (alpha * (nu * (1 + alpha) * beta + 1) * k_tr + (nu * (1 + alpha) + 1) * k_ci)\n",
    "\n",
    "d = (\n",
    "    ((eta - 1) / np.sqrt(zeta)) * np.sinh(np.sqrt(zeta))\n",
    "    + (1 / (chi_tr * k_tr) - 1 / (2 * L)) * np.cosh(np.sqrt(zeta))\n",
    "    * (eta * (nu * (1 + alpha) * beta + 1) * k_tr - (nu * (1 + alpha) + 1) * k_ci)\n",
    ")\n",
    "\n",
    "e = (\n",
    "    (1 + alpha)\n",
    "    + (1 / (chi_tr * k_tr) - 1 / (2 * L))\n",
    "    * (alpha * (nu * (1 + alpha) * beta + 1) * k_tr + (nu * (1 + alpha) + 1) * k_ci)\n",
    ")\n",
    "\n",
    "f = -1 / (2 * L)\n",
    "\n",
    "p = (\n",
    "    chi_ci * k_ci * np.sqrt(zeta) * np.sinh(np.sqrt(zeta)) * np.cosh(np.sqrt(zeta))\n",
    "    * (\n",
    "        ((1 + alpha) / xi) * (k_tr * beta * eta - k_ci)\n",
    "        + ((alpha + eta) / zeta) * (k_tr * eta - k_ci)\n",
    "    )\n",
    ")\n",
    "\n",
    "q = (\n",
    "    chi_ci * k_ci * np.sqrt(zeta) * np.sinh(np.sqrt(zeta))\n",
    "    * (\n",
    "        alpha * k_tr * (((1 + alpha) * beta) / xi + (alpha + eta) / zeta)\n",
    "        + k_ci * ((1 + alpha) / xi + (alpha + eta) / zeta)\n",
    "    )\n",
    ")\n",
    "\n",
    "r = (\n",
    "    chi_ci * k_ci * np.sqrt(zeta) * np.sinh(np.sqrt(zeta))\n",
    "    * ((1 + alpha * beta) / xi + (alpha + eta) / zeta)\n",
    "    + np.cosh(np.sqrt(zeta)) * (eta * k_tr + alpha * k_ci)\n",
    ")\n",
    "\n",
    "s = alpha * (k_tr - k_ci)"
   ]
  },
  {
   "cell_type": "code",
   "execution_count": 267,
   "metadata": {},
   "outputs": [
    {
     "name": "stdout",
     "output_type": "stream",
     "text": [
      "[ 6.13668883e+11  2.48794921e-03 -9.26361291e-04  5.82728234e-04]\n"
     ]
    }
   ],
   "source": [
    "# Solve for B_1\n",
    "poly = np.poly1d([\n",
    "    a * q**2 - b * p * q + c * p**2,\n",
    "    2 * a * q * s - b * p * s - b * q * r + 2 * c * p * r + d * q**2 - e * p * q,\n",
    "    a * s**2 - b * r * s + c * r**2 + 2 * d * q * s - e * p * s - e * q * r + f * q**2,\n",
    "    d * s**2 - e * r * s + 2 * f * q * s,\n",
    "    f * s**2\n",
    "])\n",
    "roots = poly.r\n",
    "print(roots)"
   ]
  },
  {
   "cell_type": "code",
   "execution_count": 300,
   "metadata": {},
   "outputs": [],
   "source": [
    "# Select a root\n",
    "B_1 = roots[3]"
   ]
  },
  {
   "cell_type": "code",
   "execution_count": 301,
   "metadata": {},
   "outputs": [],
   "source": [
    "# Solve for B_0\n",
    "B_0 = -(p * B_1**2 + r * B_1) / (q * B_1 + s)"
   ]
  },
  {
   "cell_type": "markdown",
   "metadata": {},
   "source": [
    "### Solutions to Leading Order"
   ]
  },
  {
   "cell_type": "code",
   "execution_count": 302,
   "metadata": {},
   "outputs": [],
   "source": [
    "# Bulk concentrations\n",
    "def w(y):\n",
    "    return np.array([B_0, B_1 * np.cosh(y * np.sqrt(zeta))])\n",
    "\n",
    "def d_w(y):\n",
    "    return np.array([0, B_1 * np.sqrt(zeta) * np.sinh(y * np.sqrt(zeta))])\n",
    "\n",
    "def d2_w(y):\n",
    "    return np.array([0, B_1 * zeta * np.cosh(y * np.sqrt(zeta))])\n",
    "\n",
    "def c_0(y):\n",
    "    return U @ w(y)\n",
    "\n",
    "def c_tr_0(y):\n",
    "    return alpha * B_0 + eta * B_1 * np.cosh(y * np.sqrt(zeta))\n",
    "\n",
    "def c_ci_0(y):\n",
    "    return B_0 - B_1 * np.cosh(y * np.sqrt(zeta))\n",
    "\n",
    "# Surface concentrations\n",
    "Delta = nu * (1 + alpha) * (beta * k_tr * c_tr_0(1) + k_ci * c_ci_0(1)) + k_tr * c_tr_0(1) + k_ci * c_ci_0(1) + 1\n",
    "\n",
    "gamma_0 = (\n",
    "    (1 / Delta) * (nu * (beta * k_tr * c_tr_0(1) + k_ci * c_ci_0(1)) * np.array([alpha, 1])\n",
    "    + np.array([k_tr * c_tr_0(1), k_ci * c_ci_0(1)]))\n",
    ")\n",
    "\n",
    "gamma_tr_0 = (nu * (beta * k_tr * c_tr_0(1) + k_ci * c_ci_0(1)) * alpha + k_tr * c_tr_0(1)) / Delta\n",
    "\n",
    "gamma_ci_0 = (nu * (beta * k_tr * c_tr_0(1) + k_ci * c_ci_0(1)) + k_ci * c_ci_0(1)) / Delta\n",
    "\n",
    "assert abs(gamma_tr_0 - gamma_0[0]) < eps\n",
    "assert abs(gamma_ci_0 - gamma_0[1]) < eps\n",
    "\n",
    "assert abs((gamma_tr_0 + gamma_ci_0) - (1 - 1 / Delta)) < eps"
   ]
  },
  {
   "cell_type": "markdown",
   "metadata": {},
   "source": [
    "### Solution Plots to Leading Order"
   ]
  },
  {
   "cell_type": "code",
   "execution_count": 303,
   "metadata": {},
   "outputs": [
    {
     "data": {
      "image/png": "[encoded data removed]",
      "text/plain": [
       "<Figure size 640x480 with 1 Axes>"
      ]
     },
     "metadata": {},
     "output_type": "display_data"
    }
   ],
   "source": [
    "yy = np.linspace(0, 1, 100)\n",
    "\n",
    "plt.plot(yy, c_tr_0(yy), label=\"c_tr\")\n",
    "plt.plot(yy, c_ci_0(yy), label=\"c_ci\")\n",
    "plt.legend()\n",
    "plt.show()"
   ]
  },
  {
   "cell_type": "markdown",
   "metadata": {},
   "source": [
    "## First Order"
   ]
  },
  {
   "cell_type": "code",
   "execution_count": null,
   "metadata": {},
   "outputs": [],
   "source": []
  },
  {
   "cell_type": "markdown",
   "metadata": {},
   "source": [
    "### Setup Constants"
   ]
  },
  {
   "cell_type": "code",
   "execution_count": 304,
   "metadata": {},
   "outputs": [],
   "source": [
    "# Define matrices\n",
    "A_s = np.array([\n",
    "    [Pen_tr_s * Dam_tr, -Pen_tr_s * Dam_ci],\n",
    "    [-Pen_ci_s * Dam_tr, Pen_ci_s * Dam_ci]\n",
    "])\n",
    "\n",
    "P = np.array([\n",
    "    [Pen_tr, 0],\n",
    "    [0, Pen_ci]\n",
    "])\n",
    "\n",
    "P_s = np.array([\n",
    "    [Pen_tr_s, 0],\n",
    "    [0, Pen_ci_s]\n",
    "])\n",
    "\n",
    "B = np.array([\n",
    "    [Bit_tr, 0],\n",
    "    [0, Bit_ci]\n",
    "])\n",
    "\n",
    "K = np.array([\n",
    "    [k_tr, 0],\n",
    "    [0, k_ci]\n",
    "])\n",
    "\n",
    "M = A_s + P_s @ B @ np.array([\n",
    "    [k_tr * c_tr_0(1) + 1, k_tr * c_tr_0(1)],\n",
    "    [k_ci * c_ci_0(1), k_ci * c_ci_0(1) + 1]\n",
    "])\n",
    "\n",
    "z = np.ones(2).reshape(1, 2)\n",
    "\n",
    "I = np.eye(2)"
   ]
  },
  {
   "cell_type": "markdown",
   "metadata": {},
   "source": [
    "### Expand Solutions in Terms of Unknown Parameters"
   ]
  },
  {
   "cell_type": "code",
   "execution_count": 305,
   "metadata": {},
   "outputs": [],
   "source": [
    "unknowns = [\"A_h\", \"B_h\", \"C_h\", \"D_h\", \"E_h\", \"F_h\", \"G_h\", \"H_h\", \"gamma_tr_h\", \"gamma_ci_h\", \"S_h\", \"const\"]\n",
    "\n",
    "def to_arr(vals, omega):\n",
    "    \"\"\"Converts a dictionary of values to an array.\"\"\"\n",
    "    arr = np.zeros((len(unknowns), len(omega)))\n",
    "    for i, key in enumerate(unknowns):\n",
    "        try:\n",
    "            arr[i, :] = vals[key]\n",
    "        except KeyError:\n",
    "            pass\n",
    "    \n",
    "    return arr\n"
   ]
  },
  {
   "cell_type": "code",
   "execution_count": 306,
   "metadata": {},
   "outputs": [],
   "source": [
    "# Streamfunction\n",
    "def psi_h(omega, y):\n",
    "    return to_arr({\n",
    "        \"A_h\": y * np.exp(omega * y),\n",
    "        \"B_h\": np.exp(omega * y),\n",
    "        \"C_h\": y * np.exp(-omega * y),\n",
    "        \"D_h\": np.exp(-omega * y),\n",
    "    }, omega)\n",
    "\n",
    "def d_psi_h(omega, y):\n",
    "    return to_arr({\n",
    "        \"A_h\": (1 + omega * y) * np.exp(omega * y),\n",
    "        \"B_h\": omega * np.exp(omega * y),\n",
    "        \"C_h\": (1 - omega * y) * np.exp(-omega * y),\n",
    "        \"D_h\": -omega * np.exp(-omega * y),\n",
    "    }, omega)\n",
    "\n",
    "def d2_psi_h(omega, y):\n",
    "    return to_arr({\n",
    "        \"A_h\": omega * (2 + omega * y) * np.exp(omega * y),\n",
    "        \"B_h\": omega**2 * np.exp(omega * y),\n",
    "        \"C_h\": -omega * (2 - omega * y) * np.exp(-omega * y),\n",
    "        \"D_h\": omega**2 * np.exp(-omega * y),\n",
    "    }, omega)\n",
    "\n",
    "def d3_psi_h(omega, y):\n",
    "    return to_arr({\n",
    "        \"A_h\": omega**2 * (3 + omega * y) * np.exp(omega * y),\n",
    "        \"B_h\": omega**3 * np.exp(omega * y),\n",
    "        \"C_h\": omega**2 * (3 - omega * y) * np.exp(-omega * y),\n",
    "        \"D_h\": -omega**3 * np.exp(-omega * y),\n",
    "    }, omega)"
   ]
  },
  {
   "cell_type": "code",
   "execution_count": 307,
   "metadata": {},
   "outputs": [],
   "source": [
    "# Define coefficients for bulk concentration\n",
    "def a_p(omega):\n",
    "    return (1 / (2 * omega * np.sqrt(zeta) + zeta)) * to_arr({\n",
    "        \"A_h\": 1,\n",
    "    }, omega)\n",
    "\n",
    "def b_p(omega):\n",
    "    return (1 / (2 * omega * np.sqrt(zeta) + zeta)**2) * to_arr({\n",
    "        \"A_h\": -2 * (omega + np.sqrt(zeta)),\n",
    "        \"B_h\": 2 * omega * np.sqrt(zeta) + zeta,\n",
    "    }, omega)\n",
    "\n",
    "def c_p(omega):\n",
    "    return (1 / (2 * omega * np.sqrt(zeta) - zeta)) * to_arr({\n",
    "        \"A_h\": 1,\n",
    "    }, omega)\n",
    "\n",
    "def d_p(omega):\n",
    "    return (1 / (2 * omega * np.sqrt(zeta) - zeta)**2) * to_arr({\n",
    "        \"A_h\": 2 * (omega - np.sqrt(zeta)),\n",
    "        \"B_h\": 2 * omega * np.sqrt(zeta) - zeta,\n",
    "    }, omega)\n",
    "\n",
    "def e_p(omega):\n",
    "    return (1 / (2 * omega * np.sqrt(zeta) - zeta)) * to_arr({\n",
    "        \"A_h\": 1,\n",
    "        \"B_h\": 2 * omega,\n",
    "    }, omega)\n",
    "\n",
    "def f_p(omega):\n",
    "    return (1 / (2 * omega * np.sqrt(zeta) - zeta)**2) * to_arr({\n",
    "        \"A_h\": -2 * (omega - np.sqrt(zeta)),\n",
    "        \"B_h\": (\n",
    "            2 * omega * np.sqrt(zeta) - zeta\n",
    "            - 4 * omega * (omega - np.sqrt(zeta))\n",
    "        ),\n",
    "    }, omega)\n",
    "\n",
    "def g_p(omega):\n",
    "    return (1 / (2 * omega * np.sqrt(zeta) + zeta)) * to_arr({\n",
    "        \"A_h\": 1,\n",
    "        \"B_h\": 2 * omega,\n",
    "    }, omega)\n",
    "\n",
    "def h_p(omega):\n",
    "    return (1 / (2 * omega * np.sqrt(zeta) + zeta)**2) * to_arr({\n",
    "        \"A_h\": 2 * (omega + np.sqrt(zeta)),\n",
    "        \"B_h\": (\n",
    "            2 * omega * np.sqrt(zeta) + zeta\n",
    "            + 4 * omega * (omega + np.sqrt(zeta))\n",
    "        ),\n",
    "    }, omega)"
   ]
  },
  {
   "cell_type": "code",
   "execution_count": 308,
   "metadata": {},
   "outputs": [],
   "source": [
    "# Bulk concentration\n",
    "def p_h_0(omega, y):\n",
    "    eq_1 = to_arr({\n",
    "        \"E_h\": np.sinh(omega * y),\n",
    "        \"F_h\": np.cosh(omega * y),\n",
    "    }, omega)\n",
    "    eq_2 = to_arr({\n",
    "        \"G_h\": np.sinh(np.sqrt(zeta + omega**2) * y),\n",
    "        \"H_h\": np.cosh(np.sqrt(zeta + omega**2) * y),\n",
    "    }, omega)\n",
    "\n",
    "    return np.array([eq_1, eq_2])\n",
    "\n",
    "def p_h_1(omega, y):\n",
    "    eq_1 = to_arr({\n",
    "        \"const\": -B_0,\n",
    "    }, omega)\n",
    "    eq_2 = -B_1 * (1 + zeta / omega**2) * to_arr({\n",
    "        \"const\": np.cosh(np.sqrt(zeta) * y),\n",
    "    }, omega)\n",
    "\n",
    "    return f_h(omega) * np.array([eq_1, eq_2])\n",
    "\n",
    "def p_h_2_s(omega, y):\n",
    "    return (\n",
    "        (a_p(omega) * y + b_p(omega)) * np.exp((omega + np.sqrt(zeta)) * y)\n",
    "        + (c_p(omega) * y + d_p(omega)) * np.exp((omega - np.sqrt(zeta)) * y)\n",
    "        + (e_p(omega) * y + f_p(omega)) * np.exp((-omega + np.sqrt(zeta)) * y)\n",
    "        + (g_p(omega) * y + h_p(omega)) * np.exp((-omega - np.sqrt(zeta)) * y)\n",
    "    )\n",
    "\n",
    "def p_h_2(omega, y):\n",
    "    return (\n",
    "        -((1.j * omega * np.sqrt(zeta) * B_1 * Pen_ci) / (2 * (alpha + eta)))\n",
    "        * p_h_2_s(omega, y)\n",
    "        * np.array([eta * (eta - 1), alpha + eta**2])[:, np.newaxis, np.newaxis]\n",
    "    )\n",
    "\n",
    "def p_h(omega, y):\n",
    "    return p_h_0(omega, y) + p_h_1(omega, y) + p_h_2(omega, y)"
   ]
  },
  {
   "cell_type": "code",
   "execution_count": 309,
   "metadata": {},
   "outputs": [],
   "source": [
    "# Bulk concentration derivative\n",
    "def d_p_h_0(omega, y):\n",
    "    eq_1 = omega *to_arr({\n",
    "        \"E_h\": np.cosh(omega * y),\n",
    "        \"F_h\": np.sinh(omega * y),\n",
    "    }, omega)\n",
    "    eq_2 = np.sqrt(zeta + omega**2) * to_arr({\n",
    "        \"G_h\": np.cosh(np.sqrt(zeta + omega**2) * y),\n",
    "        \"H_h\": np.sinh(np.sqrt(zeta + omega**2) * y),\n",
    "    }, omega)\n",
    "\n",
    "    return np.array([eq_1, eq_2])\n",
    "\n",
    "def d_p_h_1(omega, y):\n",
    "    eq_1 = to_arr({}, omega)\n",
    "    eq_2 = -B_1 * (1 + zeta / omega**2) * to_arr({\n",
    "        \"const\": np.sqrt(zeta) * np.sinh(np.sqrt(zeta) * y),\n",
    "    }, omega)\n",
    "\n",
    "    return f_h(omega) * np.array([eq_1, eq_2])\n",
    "\n",
    "def d_p_h_2_s(omega, y):\n",
    "    return (\n",
    "        b_p(omega) * np.exp((omega + np.sqrt(zeta)) * y)\n",
    "        + d_p(omega) * np.exp((omega - np.sqrt(zeta)) * y)\n",
    "        + f_p(omega) * np.exp((-omega + np.sqrt(zeta)) * y)\n",
    "        + h_p(omega) * np.exp((-omega - np.sqrt(zeta)) * y)\n",
    "        + (omega + np.sqrt(zeta)) * (a_p(omega) * y + b_p(omega)) * np.exp((omega + np.sqrt(zeta)) * y)\n",
    "        + (omega - np.sqrt(zeta)) * (c_p(omega) * y + d_p(omega)) * np.exp((omega - np.sqrt(zeta)) * y)\n",
    "        + (-omega + np.sqrt(zeta)) * (e_p(omega) * y + f_p(omega)) * np.exp((-omega + np.sqrt(zeta)) * y)\n",
    "        + (-omega - np.sqrt(zeta)) * (g_p(omega) * y + h_p(omega)) * np.exp((-omega - np.sqrt(zeta)) * y)\n",
    "    )\n",
    "\n",
    "def d_p_h_2(omega, y):\n",
    "    return (\n",
    "        -((1.j * omega * np.sqrt(zeta) * B_1 * Pen_ci) / (2 * (alpha + eta)))\n",
    "        * d_p_h_2_s(omega, y)\n",
    "        * np.array([eta * (eta - 1), alpha + eta**2])[:, np.newaxis, np.newaxis]\n",
    "    )\n",
    "\n",
    "def d_p_h(omega, y):\n",
    "    return d_p_h_0(omega, y) + d_p_h_1(omega, y) + d_p_h_2(omega, y)"
   ]
  },
  {
   "cell_type": "markdown",
   "metadata": {},
   "source": [
    "### Apply Boundary Conditions"
   ]
  },
  {
   "cell_type": "code",
   "execution_count": 310,
   "metadata": {},
   "outputs": [],
   "source": [
    "# No-slip, no-penetration conditions\n",
    "def no_slip(omega):\n",
    "    return np.array([d_psi_h(omega, 0), psi_h(omega, 0)])"
   ]
  },
  {
   "cell_type": "code",
   "execution_count": 311,
   "metadata": {},
   "outputs": [],
   "source": [
    "# Kinematic condition\n",
    "def kinematic(omega):\n",
    "    return np.array([psi_h(omega, 1)])"
   ]
  },
  {
   "cell_type": "code",
   "execution_count": 312,
   "metadata": {},
   "outputs": [],
   "source": [
    "# Normal stress balance\n",
    "def normal_stress(omega):\n",
    "    lhs = d3_psi_h(omega, 1) - 3 * omega**2 * d_psi_h(omega, 1)\n",
    "    rhs = 1.j * omega**3 * (1 - Man * np.log(Delta)) * to_arr({\n",
    "        \"S_h\": 1,\n",
    "    }, omega)\n",
    "\n",
    "    return np.array([lhs - rhs])"
   ]
  },
  {
   "cell_type": "code",
   "execution_count": 313,
   "metadata": {},
   "outputs": [],
   "source": [
    "# No-flux condition\n",
    "def no_flux(omega):\n",
    "    return d_p_h(omega, 0)"
   ]
  },
  {
   "cell_type": "code",
   "execution_count": 314,
   "metadata": {},
   "outputs": [],
   "source": [
    "# Surface excess concentration equations\n",
    "def J_h(omega):\n",
    "    S_vec = np.tile(to_arr({\"S_h\": 1}, omega), (2, 1, 1))\n",
    "    eq_2 = p_h(omega, 1) + S_vec * d_w(1)[:, np.newaxis, np.newaxis]\n",
    "    eq_3 = (1 / Delta) * np.tensordot(K @ U, eq_2, axes=1)\n",
    "\n",
    "    gamma_tr_vec = to_arr({\n",
    "        \"gamma_tr_h\": 1,\n",
    "    }, omega)\n",
    "    gamma_ci_vec = to_arr({\n",
    "        \"gamma_ci_h\": 1,\n",
    "    }, omega)\n",
    "    eq_5 = -(K @ U @ w(1))[:, np.newaxis, np.newaxis] * np.tile((gamma_tr_vec + gamma_ci_vec), (2, 1, 1))\n",
    "\n",
    "    eq_6 = -np.array([gamma_tr_vec, gamma_ci_vec])\n",
    "\n",
    "    return np.tensordot(B, eq_3 + eq_5 + eq_6, axes=1)\n",
    "\n",
    "def surf_excess(omega):\n",
    "    eq_1 = 1.j * omega * (np.tile(d_psi_h(omega, 1), (2, 1, 1)) * (P_s @ gamma_0)[:, np.newaxis, np.newaxis])\n",
    "\n",
    "    gamma_tr_vec = to_arr({\"gamma_tr_h\": 1}, omega)\n",
    "    gamma_ci_vec = to_arr({\"gamma_ci_h\": 1}, omega)\n",
    "    gamma_vec = np.array([gamma_tr_vec, gamma_ci_vec])\n",
    "    eq_2 = omega**2 * gamma_vec\n",
    "\n",
    "    eq_3 = -np.tensordot(P_s, J_h(omega), axes=1)\n",
    "\n",
    "    eq_4 = f_h(omega) * to_arr({\"const\": 1}, omega)\n",
    "    eq_5 = gamma_vec + np.tile(eq_4, (2, 1, 1)) * gamma_0[:, np.newaxis, np.newaxis]\n",
    "    eq_6 = np.tensordot(A_s, eq_5, axes=1)\n",
    "\n",
    "    return eq_1 + eq_2 + eq_3 + eq_6"
   ]
  },
  {
   "cell_type": "code",
   "execution_count": 315,
   "metadata": {},
   "outputs": [],
   "source": [
    "# Tangential stress balance\n",
    "def tangential_stress(omega):\n",
    "    lhs = d2_psi_h(omega, 1) + omega**2 * psi_h(omega, 1)\n",
    "    rhs = -1.j * omega * Man * Delta * to_arr({\n",
    "        \"gamma_tr_1\": 1,\n",
    "        \"gamma_ci_1\": 1,\n",
    "    }, omega)\n",
    "\n",
    "    return np.array([lhs - rhs])"
   ]
  },
  {
   "cell_type": "code",
   "execution_count": 316,
   "metadata": {},
   "outputs": [],
   "source": [
    "# Mass balance\n",
    "def mass_balance(omega):\n",
    "    S_vec = np.tile(to_arr({\"S_h\": 1}, omega), (2, 1, 1))\n",
    "    eq_1 = d_p_h(omega, 1) + S_vec * d2_w(1)[:, np.newaxis, np.newaxis]\n",
    "    lhs = k_tr * chi_tr * np.tensordot(U, eq_1, axes=1)\n",
    "\n",
    "    rhs = -np.tensordot(P, J_h(omega), axes=1)\n",
    "\n",
    "    return lhs - rhs"
   ]
  },
  {
   "cell_type": "code",
   "execution_count": 317,
   "metadata": {},
   "outputs": [],
   "source": [
    "# Collate equations\n",
    "def form_equations(omega):\n",
    "    return np.concatenate([\n",
    "        no_slip(omega),\n",
    "        kinematic(omega),\n",
    "        normal_stress(omega),\n",
    "        no_flux(omega),\n",
    "        surf_excess(omega),\n",
    "        tangential_stress(omega),\n",
    "        mass_balance(omega),\n",
    "    ], axis=0)"
   ]
  },
  {
   "cell_type": "markdown",
   "metadata": {},
   "source": [
    "### Solutions for Constants of Integration"
   ]
  },
  {
   "cell_type": "code",
   "execution_count": 318,
   "metadata": {},
   "outputs": [],
   "source": [
    "omega = (np.arange(5) + 1) * (np.pi / L)"
   ]
  },
  {
   "cell_type": "code",
   "execution_count": 319,
   "metadata": {},
   "outputs": [],
   "source": [
    "sys = form_equations(omega)\n",
    "f = sys[:, -1, :]"
   ]
  },
  {
   "cell_type": "code",
   "execution_count": 330,
   "metadata": {},
   "outputs": [],
   "source": [
    "# Compute unknowns\n",
    "sols = np.array([np.linalg.solve(sys[:, :-1, i], f[:, i]) for i in range(len(omega))])"
   ]
  },
  {
   "cell_type": "markdown",
   "metadata": {},
   "source": [
    "### Test Against Analytical Solutions"
   ]
  },
  {
   "cell_type": "code",
   "execution_count": null,
   "metadata": {},
   "outputs": [],
   "source": []
  },
  {
   "cell_type": "markdown",
   "metadata": {},
   "source": [
    "### Solutions to First Order"
   ]
  },
  {
   "cell_type": "code",
   "execution_count": null,
   "metadata": {},
   "outputs": [],
   "source": []
  }
 ],
 "metadata": {
  "kernelspec": {
   "display_name": "m4r_venv",
   "language": "python",
   "name": "python3"
  },
  "language_info": {
   "codemirror_mode": {
    "name": "ipython",
    "version": 3
   },
   "file_extension": ".py",
   "mimetype": "text/x-python",
   "name": "python",
   "nbconvert_exporter": "python",
   "pygments_lexer": "ipython3",
   "version": "3.11.1"
  }
 },
 "nbformat": 4,
 "nbformat_minor": 2
}
