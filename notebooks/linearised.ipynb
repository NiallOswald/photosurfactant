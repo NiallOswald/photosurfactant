{
 "cells": [
  {
   "cell_type": "code",
   "execution_count": 1,
   "metadata": {},
   "outputs": [],
   "source": [
    "import numpy as np\n",
    "import matplotlib.pyplot as plt\n",
    "from fourier import fourier_series_coeff"
   ]
  },
  {
   "cell_type": "code",
   "execution_count": 2,
   "metadata": {},
   "outputs": [],
   "source": [
    "# Numerical parameters\n",
    "eps = 1e-12\n",
    "N = 100"
   ]
  },
  {
   "cell_type": "markdown",
   "metadata": {},
   "source": [
    "## Global Parameters"
   ]
  },
  {
   "cell_type": "code",
   "execution_count": 3,
   "metadata": {},
   "outputs": [
    {
     "name": "stdout",
     "output_type": "stream",
     "text": [
      "30.0 30.0\n"
     ]
    }
   ],
   "source": [
    "# Non-dimensional parameters\n",
    "# Cell length\n",
    "L = 1.0\n",
    "\n",
    "# Damkohler numbers\n",
    "Dam_tr = 1.0\n",
    "Dam_ci = 1.4\n",
    "\n",
    "# Peclet numbers\n",
    "Pen_tr = 10.0\n",
    "Pen_ci = 15.0\n",
    "\n",
    "Pen_tr_s = 10.0\n",
    "Pen_ci_s = 15.0\n",
    "\n",
    "# Biot numbers\n",
    "Bit_tr = 1.0e3\n",
    "Bit_ci = 3.33\n",
    "\n",
    "# Marangoni numbers\n",
    "Man = 1.03\n",
    "\n",
    "# Switching rate\n",
    "k_tr = 1.0\n",
    "k_ci = 30 * k_tr\n",
    "\n",
    "chi_tr = 30.0\n",
    "chi_ci = 1.0\n",
    "\n",
    "print(k_tr * chi_tr, k_ci * chi_ci)\n",
    "\n",
    "assert k_tr * chi_tr == k_ci * chi_ci"
   ]
  },
  {
   "cell_type": "code",
   "execution_count": 4,
   "metadata": {},
   "outputs": [],
   "source": [
    "# Light intensity\n",
    "def f_1(x):\n",
    "    \"\"\"A 2L-periodic light intensity perturbation.\"\"\"\n",
    "    return np.exp(-x**2 / 0.1)\n",
    "    "
   ]
  },
  {
   "cell_type": "markdown",
   "metadata": {},
   "source": [
    "## Fourier Setup"
   ]
  },
  {
   "cell_type": "code",
   "execution_count": 5,
   "metadata": {},
   "outputs": [],
   "source": [
    "# Set the frequencies\n",
    "omega_full = np.arange(-N, N + 1) * np.pi / L\n",
    "omega = np.concatenate([omega_full[:N], omega_full[N + 1:]])  # Excluding the zero frequency"
   ]
  },
  {
   "cell_type": "code",
   "execution_count": 6,
   "metadata": {},
   "outputs": [],
   "source": [
    "# Extract Fourier coefficients\n",
    "f_coeffs = fourier_series_coeff(lambda x: f_1(x - L), 2 * L, N - 1, return_complex=True)\n",
    "\n",
    "f_o = f_coeffs[0]\n",
    "f_h = lambda x: np.concatenate([f_coeffs[1:][::-1].conj(), f_coeffs[1:]])  # Exclude the zero mode"
   ]
  },
  {
   "cell_type": "markdown",
   "metadata": {},
   "source": [
    "## Leading Order"
   ]
  },
  {
   "cell_type": "markdown",
   "metadata": {},
   "source": [
    "### Setting Additional Parameters"
   ]
  },
  {
   "cell_type": "code",
   "execution_count": 7,
   "metadata": {},
   "outputs": [],
   "source": [
    "# Setup required parameters\n",
    "alpha = Dam_ci / Dam_tr\n",
    "eta = Pen_tr / Pen_ci\n",
    "zeta = Pen_tr * Dam_tr + Pen_ci * Dam_ci\n",
    "beta = Bit_tr / Bit_ci\n",
    "xi = Pen_ci * Bit_tr\n",
    "nu = Dam_tr / Bit_tr"
   ]
  },
  {
   "cell_type": "markdown",
   "metadata": {},
   "source": [
    "### Apply Boundary Conditions"
   ]
  },
  {
   "cell_type": "code",
   "execution_count": 8,
   "metadata": {},
   "outputs": [],
   "source": [
    "# Define matrices\n",
    "U = np.array([\n",
    "    [alpha, eta],\n",
    "    [1, -1]\n",
    "])"
   ]
  },
  {
   "cell_type": "code",
   "execution_count": 9,
   "metadata": {},
   "outputs": [],
   "source": [
    "# Quadratic coefficients\n",
    "a = (\n",
    "    ((eta - 1) / np.sqrt(zeta)) * np.sinh(np.sqrt(zeta)) * np.cosh(np.sqrt(zeta))\n",
    "    * (eta * (nu * (1 + alpha) * beta + 1) * k_tr - (nu * (1 + alpha) + 1) * k_ci)\n",
    ")\n",
    "\n",
    "b = (\n",
    "    (1 + alpha) * np.cosh(np.sqrt(zeta))\n",
    "    * (eta * (nu * (1 + alpha) * beta + 1) * k_tr - (nu * (1 + alpha) + 1) * k_ci)\n",
    "    + ((eta - 1) / np.sqrt(zeta)) * np.sinh(np.sqrt(zeta))\n",
    "    * (alpha * (nu * (1 + alpha) * beta + 1) * k_tr + (nu * (1 + alpha) + 1) * k_ci)\n",
    ")\n",
    "\n",
    "c = (1 + alpha) * (alpha * (nu * (1 + alpha) * beta + 1) * k_tr + (nu * (1 + alpha) + 1) * k_ci)\n",
    "\n",
    "d = (\n",
    "    ((eta - 1) / np.sqrt(zeta)) * np.sinh(np.sqrt(zeta))\n",
    "    + (1 / (chi_tr * k_tr) - 1 / (2 * L)) * np.cosh(np.sqrt(zeta))\n",
    "    * (eta * (nu * (1 + alpha) * beta + 1) * k_tr - (nu * (1 + alpha) + 1) * k_ci)\n",
    ")\n",
    "\n",
    "e = (\n",
    "    (1 + alpha)\n",
    "    + (1 / (chi_tr * k_tr) - 1 / (2 * L))\n",
    "    * (alpha * (nu * (1 + alpha) * beta + 1) * k_tr + (nu * (1 + alpha) + 1) * k_ci)\n",
    ")\n",
    "\n",
    "f = -1 / (2 * L)\n",
    "\n",
    "p = (\n",
    "    chi_ci * k_ci * np.sqrt(zeta) * np.sinh(np.sqrt(zeta)) * np.cosh(np.sqrt(zeta))\n",
    "    * (\n",
    "        ((1 + alpha) / xi) * (k_tr * beta * eta - k_ci)\n",
    "        + ((alpha + eta) / zeta) * (k_tr * eta - k_ci)\n",
    "    )\n",
    ")\n",
    "\n",
    "q = (\n",
    "    chi_ci * k_ci * np.sqrt(zeta) * np.sinh(np.sqrt(zeta))\n",
    "    * (\n",
    "        alpha * k_tr * (((1 + alpha) * beta) / xi + (alpha + eta) / zeta)\n",
    "        + k_ci * ((1 + alpha) / xi + (alpha + eta) / zeta)\n",
    "    )\n",
    ")\n",
    "\n",
    "r = (\n",
    "    chi_ci * k_ci * np.sqrt(zeta) * np.sinh(np.sqrt(zeta))\n",
    "    * ((1 + alpha * beta) / xi + (alpha + eta) / zeta)\n",
    "    + np.cosh(np.sqrt(zeta)) * (eta * k_tr + alpha * k_ci)\n",
    ")\n",
    "\n",
    "s = alpha * (k_tr - k_ci)"
   ]
  },
  {
   "cell_type": "code",
   "execution_count": 10,
   "metadata": {},
   "outputs": [
    {
     "name": "stdout",
     "output_type": "stream",
     "text": [
      "[ 6.13668883e+11  2.48794921e-03 -9.26361291e-04  5.82728234e-04]\n"
     ]
    }
   ],
   "source": [
    "# Solve for B_1\n",
    "poly = np.poly1d([\n",
    "    a * q**2 - b * p * q + c * p**2,\n",
    "    2 * a * q * s - b * p * s - b * q * r + 2 * c * p * r + d * q**2 - e * p * q,\n",
    "    a * s**2 - b * r * s + c * r**2 + 2 * d * q * s - e * p * s - e * q * r + f * q**2,\n",
    "    d * s**2 - e * r * s + 2 * f * q * s,\n",
    "    f * s**2\n",
    "])\n",
    "roots = poly.r\n",
    "print(roots)"
   ]
  },
  {
   "cell_type": "code",
   "execution_count": 11,
   "metadata": {},
   "outputs": [],
   "source": [
    "# Select a root\n",
    "B_1 = roots[3]"
   ]
  },
  {
   "cell_type": "code",
   "execution_count": 12,
   "metadata": {},
   "outputs": [],
   "source": [
    "# Solve for B_0\n",
    "B_0 = -(p * B_1**2 + r * B_1) / (q * B_1 + s)"
   ]
  },
  {
   "cell_type": "markdown",
   "metadata": {},
   "source": [
    "### Solutions to Leading Order"
   ]
  },
  {
   "cell_type": "code",
   "execution_count": 13,
   "metadata": {},
   "outputs": [],
   "source": [
    "# Bulk concentrations\n",
    "def w(y):\n",
    "    return np.array([B_0, B_1 * np.cosh(y * np.sqrt(zeta))])\n",
    "\n",
    "def d_w(y):\n",
    "    return np.array([0, B_1 * np.sqrt(zeta) * np.sinh(y * np.sqrt(zeta))])\n",
    "\n",
    "def d2_w(y):\n",
    "    return np.array([0, B_1 * zeta * np.cosh(y * np.sqrt(zeta))])\n",
    "\n",
    "def c_0(y):\n",
    "    return U @ w(y)\n",
    "\n",
    "def c_tr_0(y):\n",
    "    return alpha * B_0 + eta * B_1 * np.cosh(y * np.sqrt(zeta))\n",
    "\n",
    "def c_ci_0(y):\n",
    "    return B_0 - B_1 * np.cosh(y * np.sqrt(zeta))\n",
    "\n",
    "# Surface concentrations\n",
    "Delta = nu * (1 + alpha) * (beta * k_tr * c_tr_0(1) + k_ci * c_ci_0(1)) + k_tr * c_tr_0(1) + k_ci * c_ci_0(1) + 1\n",
    "\n",
    "gamma_0 = (\n",
    "    (1 / Delta) * (nu * (beta * k_tr * c_tr_0(1) + k_ci * c_ci_0(1)) * np.array([alpha, 1])\n",
    "    + np.array([k_tr * c_tr_0(1), k_ci * c_ci_0(1)]))\n",
    ")\n",
    "\n",
    "gamma_tr_0 = (nu * (beta * k_tr * c_tr_0(1) + k_ci * c_ci_0(1)) * alpha + k_tr * c_tr_0(1)) / Delta\n",
    "\n",
    "gamma_ci_0 = (nu * (beta * k_tr * c_tr_0(1) + k_ci * c_ci_0(1)) + k_ci * c_ci_0(1)) / Delta\n",
    "\n",
    "assert abs(gamma_tr_0 - gamma_0[0]) < eps\n",
    "assert abs(gamma_ci_0 - gamma_0[1]) < eps\n",
    "\n",
    "assert abs((gamma_tr_0 + gamma_ci_0) - (1 - 1 / Delta)) < eps"
   ]
  },
  {
   "cell_type": "markdown",
   "metadata": {},
   "source": [
    "### Solution Plots to Leading Order"
   ]
  },
  {
   "cell_type": "code",
   "execution_count": 14,
   "metadata": {},
   "outputs": [
    {
     "data": {
      "image/png": "[encoded data removed]",
      "text/plain": [
       "<Figure size 640x480 with 1 Axes>"
      ]
     },
     "metadata": {},
     "output_type": "display_data"
    }
   ],
   "source": [
    "yy = np.linspace(0, 1, 100)\n",
    "\n",
    "plt.plot(yy, c_tr_0(yy), label=\"c_tr\")\n",
    "plt.plot(yy, c_ci_0(yy), label=\"c_ci\")\n",
    "plt.legend()\n",
    "plt.show()"
   ]
  },
  {
   "cell_type": "markdown",
   "metadata": {},
   "source": [
    "## First Order"
   ]
  },
  {
   "cell_type": "code",
   "execution_count": null,
   "metadata": {},
   "outputs": [],
   "source": []
  },
  {
   "cell_type": "markdown",
   "metadata": {},
   "source": [
    "### Setup Constants"
   ]
  },
  {
   "cell_type": "code",
   "execution_count": 15,
   "metadata": {},
   "outputs": [],
   "source": [
    "# Define matrices\n",
    "A_s = np.array([\n",
    "    [Pen_tr_s * Dam_tr, -Pen_tr_s * Dam_ci],\n",
    "    [-Pen_ci_s * Dam_tr, Pen_ci_s * Dam_ci]\n",
    "])\n",
    "\n",
    "P = np.array([\n",
    "    [Pen_tr, 0],\n",
    "    [0, Pen_ci]\n",
    "])\n",
    "\n",
    "P_s = np.array([\n",
    "    [Pen_tr_s, 0],\n",
    "    [0, Pen_ci_s]\n",
    "])\n",
    "\n",
    "B = np.array([\n",
    "    [Bit_tr, 0],\n",
    "    [0, Bit_ci]\n",
    "])\n",
    "\n",
    "K = np.array([\n",
    "    [k_tr, 0],\n",
    "    [0, k_ci]\n",
    "])\n",
    "\n",
    "M = A_s + P_s @ B @ np.array([\n",
    "    [k_tr * c_tr_0(1) + 1, k_tr * c_tr_0(1)],\n",
    "    [k_ci * c_ci_0(1), k_ci * c_ci_0(1) + 1]\n",
    "])\n",
    "\n",
    "z = np.ones(2).reshape(1, 2)\n",
    "\n",
    "I = np.eye(2)"
   ]
  },
  {
   "cell_type": "markdown",
   "metadata": {},
   "source": [
    "### Expand Solutions in Terms of Unknown Parameters $\\omega \\neq 0$"
   ]
  },
  {
   "cell_type": "code",
   "execution_count": 16,
   "metadata": {},
   "outputs": [],
   "source": [
    "unknowns = [\"A_h\", \"B_h\", \"C_h\", \"D_h\", \"E_h\", \"F_h\", \"G_h\", \"H_h\", \"gamma_tr_h\", \"gamma_ci_h\", \"S_h\", \"const\"]\n",
    "\n",
    "def to_arr(vals, omega):\n",
    "    \"\"\"Converts a dictionary of values to an array.\"\"\"\n",
    "    arr = np.zeros((len(unknowns), len(omega)))\n",
    "    for i, key in enumerate(unknowns):\n",
    "        try:\n",
    "            arr[i, :] = vals[key]\n",
    "        except KeyError:\n",
    "            pass\n",
    "    \n",
    "    return arr\n"
   ]
  },
  {
   "cell_type": "code",
   "execution_count": 17,
   "metadata": {},
   "outputs": [],
   "source": [
    "# Streamfunction\n",
    "def psi_h(omega, y):\n",
    "    return to_arr({\n",
    "        \"A_h\": y * np.exp(omega * y),\n",
    "        \"B_h\": np.exp(omega * y),\n",
    "        \"C_h\": y * np.exp(-omega * y),\n",
    "        \"D_h\": np.exp(-omega * y),\n",
    "    }, omega)\n",
    "\n",
    "def d_psi_h(omega, y):\n",
    "    return to_arr({\n",
    "        \"A_h\": (1 + omega * y) * np.exp(omega * y),\n",
    "        \"B_h\": omega * np.exp(omega * y),\n",
    "        \"C_h\": (1 - omega * y) * np.exp(-omega * y),\n",
    "        \"D_h\": -omega * np.exp(-omega * y),\n",
    "    }, omega)\n",
    "\n",
    "def d2_psi_h(omega, y):\n",
    "    return to_arr({\n",
    "        \"A_h\": omega * (2 + omega * y) * np.exp(omega * y),\n",
    "        \"B_h\": omega**2 * np.exp(omega * y),\n",
    "        \"C_h\": -omega * (2 - omega * y) * np.exp(-omega * y),\n",
    "        \"D_h\": omega**2 * np.exp(-omega * y),\n",
    "    }, omega)\n",
    "\n",
    "def d3_psi_h(omega, y):\n",
    "    return to_arr({\n",
    "        \"A_h\": omega**2 * (3 + omega * y) * np.exp(omega * y),\n",
    "        \"B_h\": omega**3 * np.exp(omega * y),\n",
    "        \"C_h\": omega**2 * (3 - omega * y) * np.exp(-omega * y),\n",
    "        \"D_h\": -omega**3 * np.exp(-omega * y),\n",
    "    }, omega)"
   ]
  },
  {
   "cell_type": "code",
   "execution_count": 18,
   "metadata": {},
   "outputs": [],
   "source": [
    "# Define coefficients for bulk concentration\n",
    "def a_p(omega):\n",
    "    return (1 / (2 * omega * np.sqrt(zeta) + zeta)) * to_arr({\n",
    "        \"A_h\": 1,\n",
    "    }, omega)\n",
    "\n",
    "def b_p(omega):\n",
    "    return (1 / (2 * omega * np.sqrt(zeta) + zeta)**2) * to_arr({\n",
    "        \"A_h\": -2 * (omega + np.sqrt(zeta)),\n",
    "        \"B_h\": 2 * omega * np.sqrt(zeta) + zeta,\n",
    "    }, omega)\n",
    "\n",
    "def c_p(omega):\n",
    "    return (1 / (2 * omega * np.sqrt(zeta) - zeta)) * to_arr({\n",
    "        \"A_h\": 1,\n",
    "    }, omega)\n",
    "\n",
    "def d_p(omega):\n",
    "    return (1 / (2 * omega * np.sqrt(zeta) - zeta)**2) * to_arr({\n",
    "        \"A_h\": 2 * (omega - np.sqrt(zeta)),\n",
    "        \"B_h\": 2 * omega * np.sqrt(zeta) - zeta,\n",
    "    }, omega)\n",
    "\n",
    "def e_p(omega):\n",
    "    return (1 / (2 * omega * np.sqrt(zeta) - zeta)) * to_arr({\n",
    "        \"A_h\": 1,\n",
    "        \"B_h\": 2 * omega,\n",
    "    }, omega)\n",
    "\n",
    "def f_p(omega):\n",
    "    return (1 / (2 * omega * np.sqrt(zeta) - zeta)**2) * to_arr({\n",
    "        \"A_h\": -2 * (omega - np.sqrt(zeta)),\n",
    "        \"B_h\": (\n",
    "            2 * omega * np.sqrt(zeta) - zeta\n",
    "            - 4 * omega * (omega - np.sqrt(zeta))\n",
    "        ),\n",
    "    }, omega)\n",
    "\n",
    "def g_p(omega):\n",
    "    return (1 / (2 * omega * np.sqrt(zeta) + zeta)) * to_arr({\n",
    "        \"A_h\": 1,\n",
    "        \"B_h\": 2 * omega,\n",
    "    }, omega)\n",
    "\n",
    "def h_p(omega):\n",
    "    return (1 / (2 * omega * np.sqrt(zeta) + zeta)**2) * to_arr({\n",
    "        \"A_h\": 2 * (omega + np.sqrt(zeta)),\n",
    "        \"B_h\": (\n",
    "            2 * omega * np.sqrt(zeta) + zeta\n",
    "            + 4 * omega * (omega + np.sqrt(zeta))\n",
    "        ),\n",
    "    }, omega)"
   ]
  },
  {
   "cell_type": "code",
   "execution_count": 19,
   "metadata": {},
   "outputs": [],
   "source": [
    "# Bulk concentration\n",
    "def p_h_0(omega, y):\n",
    "    eq_1 = to_arr({\n",
    "        \"E_h\": np.sinh(omega * y),\n",
    "        \"F_h\": np.cosh(omega * y),\n",
    "    }, omega)\n",
    "    eq_2 = to_arr({\n",
    "        \"G_h\": np.sinh(np.sqrt(zeta + omega**2) * y),\n",
    "        \"H_h\": np.cosh(np.sqrt(zeta + omega**2) * y),\n",
    "    }, omega)\n",
    "\n",
    "    return np.array([eq_1, eq_2])\n",
    "\n",
    "def p_h_1(omega, y):\n",
    "    eq_1 = to_arr({\n",
    "        \"const\": -B_0,\n",
    "    }, omega)\n",
    "    eq_2 = -B_1 * (1 + zeta / omega**2) * to_arr({\n",
    "        \"const\": np.cosh(np.sqrt(zeta) * y),\n",
    "    }, omega)\n",
    "\n",
    "    return f_h(omega) * np.array([eq_1, eq_2])\n",
    "\n",
    "def p_h_2_s(omega, y):\n",
    "    return (\n",
    "        (a_p(omega) * y + b_p(omega)) * np.exp((omega + np.sqrt(zeta)) * y)\n",
    "        + (c_p(omega) * y + d_p(omega)) * np.exp((omega - np.sqrt(zeta)) * y)\n",
    "        + (e_p(omega) * y + f_p(omega)) * np.exp((-omega + np.sqrt(zeta)) * y)\n",
    "        + (g_p(omega) * y + h_p(omega)) * np.exp((-omega - np.sqrt(zeta)) * y)\n",
    "    )\n",
    "\n",
    "def p_h_2(omega, y):\n",
    "    return (\n",
    "        -((1.j * omega * np.sqrt(zeta) * B_1 * Pen_ci) / (2 * (alpha + eta)))\n",
    "        * p_h_2_s(omega, y)\n",
    "        * np.array([eta * (eta - 1), alpha + eta**2])[:, np.newaxis, np.newaxis]\n",
    "    )\n",
    "\n",
    "def p_h(omega, y):\n",
    "    return p_h_0(omega, y) + p_h_1(omega, y) + p_h_2(omega, y)"
   ]
  },
  {
   "cell_type": "code",
   "execution_count": 20,
   "metadata": {},
   "outputs": [],
   "source": [
    "# Bulk concentration derivative\n",
    "def d_p_h_0(omega, y):\n",
    "    eq_1 = omega * to_arr({\n",
    "        \"E_h\": np.cosh(omega * y),\n",
    "        \"F_h\": np.sinh(omega * y),\n",
    "    }, omega)\n",
    "    eq_2 = np.sqrt(zeta + omega**2) * to_arr({\n",
    "        \"G_h\": np.cosh(np.sqrt(zeta + omega**2) * y),\n",
    "        \"H_h\": np.sinh(np.sqrt(zeta + omega**2) * y),\n",
    "    }, omega)\n",
    "\n",
    "    return np.array([eq_1, eq_2])\n",
    "\n",
    "def d_p_h_1(omega, y):\n",
    "    eq_1 = to_arr({}, omega)\n",
    "    eq_2 = -B_1 * (1 + zeta / omega**2) * to_arr({\n",
    "        \"const\": np.sqrt(zeta) * np.sinh(np.sqrt(zeta) * y),\n",
    "    }, omega)\n",
    "\n",
    "    return f_h(omega) * np.array([eq_1, eq_2])\n",
    "\n",
    "def d_p_h_2_s(omega, y):\n",
    "    return (\n",
    "        b_p(omega) * np.exp((omega + np.sqrt(zeta)) * y)\n",
    "        + d_p(omega) * np.exp((omega - np.sqrt(zeta)) * y)\n",
    "        + f_p(omega) * np.exp((-omega + np.sqrt(zeta)) * y)\n",
    "        + h_p(omega) * np.exp((-omega - np.sqrt(zeta)) * y)\n",
    "        + (omega + np.sqrt(zeta)) * (a_p(omega) * y + b_p(omega)) * np.exp((omega + np.sqrt(zeta)) * y)\n",
    "        + (omega - np.sqrt(zeta)) * (c_p(omega) * y + d_p(omega)) * np.exp((omega - np.sqrt(zeta)) * y)\n",
    "        + (-omega + np.sqrt(zeta)) * (e_p(omega) * y + f_p(omega)) * np.exp((-omega + np.sqrt(zeta)) * y)\n",
    "        + (-omega - np.sqrt(zeta)) * (g_p(omega) * y + h_p(omega)) * np.exp((-omega - np.sqrt(zeta)) * y)\n",
    "    )\n",
    "\n",
    "def d_p_h_2(omega, y):\n",
    "    return (\n",
    "        -((1.j * omega * np.sqrt(zeta) * B_1 * Pen_ci) / (2 * (alpha + eta)))\n",
    "        * d_p_h_2_s(omega, y)\n",
    "        * np.array([eta * (eta - 1), alpha + eta**2])[:, np.newaxis, np.newaxis]\n",
    "    )\n",
    "\n",
    "def d_p_h(omega, y):\n",
    "    return d_p_h_0(omega, y) + d_p_h_1(omega, y) + d_p_h_2(omega, y)"
   ]
  },
  {
   "cell_type": "markdown",
   "metadata": {},
   "source": [
    "### Apply Boundary Conditions"
   ]
  },
  {
   "cell_type": "code",
   "execution_count": 21,
   "metadata": {},
   "outputs": [],
   "source": [
    "# No-slip, no-penetration conditions\n",
    "def no_slip(omega):\n",
    "    return np.array([d_psi_h(omega, 0), psi_h(omega, 0)])"
   ]
  },
  {
   "cell_type": "code",
   "execution_count": 22,
   "metadata": {},
   "outputs": [],
   "source": [
    "# Kinematic condition\n",
    "def kinematic(omega):\n",
    "    return np.array([psi_h(omega, 1)])"
   ]
  },
  {
   "cell_type": "code",
   "execution_count": 23,
   "metadata": {},
   "outputs": [],
   "source": [
    "# Normal stress balance\n",
    "def normal_stress(omega):\n",
    "    lhs = d3_psi_h(omega, 1) - 3 * omega**2 * d_psi_h(omega, 1)\n",
    "    rhs = 1.j * omega**3 * (1 - Man * np.log(Delta)) * to_arr({\n",
    "        \"S_h\": 1,\n",
    "    }, omega)\n",
    "\n",
    "    return np.array([lhs - rhs])"
   ]
  },
  {
   "cell_type": "code",
   "execution_count": 24,
   "metadata": {},
   "outputs": [],
   "source": [
    "# No-flux condition\n",
    "def no_flux(omega):\n",
    "    return d_p_h(omega, 0)"
   ]
  },
  {
   "cell_type": "code",
   "execution_count": 25,
   "metadata": {},
   "outputs": [],
   "source": [
    "# Surface excess concentration equations\n",
    "def J_h(omega):\n",
    "    S_vec = np.tile(to_arr({\"S_h\": 1}, omega), (2, 1, 1))\n",
    "    eq_2 = p_h(omega, 1) + S_vec * d_w(1)[:, np.newaxis, np.newaxis]\n",
    "    eq_3 = (1 / Delta) * np.tensordot(K @ U, eq_2, axes=1)\n",
    "\n",
    "    gamma_tr_vec = to_arr({\n",
    "        \"gamma_tr_h\": 1,\n",
    "    }, omega)\n",
    "    gamma_ci_vec = to_arr({\n",
    "        \"gamma_ci_h\": 1,\n",
    "    }, omega)\n",
    "    eq_5 = -(K @ U @ w(1))[:, np.newaxis, np.newaxis] * np.tile((gamma_tr_vec + gamma_ci_vec), (2, 1, 1))\n",
    "\n",
    "    eq_6 = -np.array([gamma_tr_vec, gamma_ci_vec])\n",
    "\n",
    "    return np.tensordot(B, eq_3 + eq_5 + eq_6, axes=1)\n",
    "\n",
    "def surf_excess(omega):\n",
    "    eq_1 = 1.j * omega * (np.tile(d_psi_h(omega, 1), (2, 1, 1)) * (P_s @ gamma_0)[:, np.newaxis, np.newaxis])\n",
    "\n",
    "    gamma_tr_vec = to_arr({\"gamma_tr_h\": 1}, omega)\n",
    "    gamma_ci_vec = to_arr({\"gamma_ci_h\": 1}, omega)\n",
    "    gamma_vec = np.array([gamma_tr_vec, gamma_ci_vec])\n",
    "    eq_2 = omega**2 * gamma_vec\n",
    "\n",
    "    eq_3 = -np.tensordot(P_s, J_h(omega), axes=1)\n",
    "\n",
    "    eq_4 = f_h(omega) * to_arr({\"const\": 1}, omega)\n",
    "    eq_5 = gamma_vec + np.tile(eq_4, (2, 1, 1)) * gamma_0[:, np.newaxis, np.newaxis]\n",
    "    eq_6 = np.tensordot(A_s, eq_5, axes=1)\n",
    "\n",
    "    return eq_1 + eq_2 + eq_3 + eq_6"
   ]
  },
  {
   "cell_type": "code",
   "execution_count": 26,
   "metadata": {},
   "outputs": [],
   "source": [
    "# Tangential stress balance\n",
    "def tangential_stress(omega):\n",
    "    lhs = d2_psi_h(omega, 1) + omega**2 * psi_h(omega, 1)\n",
    "    rhs = -1.j * omega * Man * Delta * to_arr({\n",
    "        \"gamma_tr_1\": 1,\n",
    "        \"gamma_ci_1\": 1,\n",
    "    }, omega)\n",
    "\n",
    "    return np.array([lhs - rhs])"
   ]
  },
  {
   "cell_type": "code",
   "execution_count": 27,
   "metadata": {},
   "outputs": [],
   "source": [
    "# Mass balance\n",
    "def mass_balance(omega):\n",
    "    S_vec = np.tile(to_arr({\"S_h\": 1}, omega), (2, 1, 1))\n",
    "    eq_1 = d_p_h(omega, 1) + S_vec * d2_w(1)[:, np.newaxis, np.newaxis]\n",
    "    lhs = k_tr * chi_tr * np.tensordot(U, eq_1, axes=1)\n",
    "\n",
    "    rhs = -np.tensordot(P, J_h(omega), axes=1)\n",
    "\n",
    "    return lhs - rhs"
   ]
  },
  {
   "cell_type": "code",
   "execution_count": 28,
   "metadata": {},
   "outputs": [],
   "source": [
    "# Collate equations\n",
    "def form_equations(omega):\n",
    "    return np.concatenate([\n",
    "        no_slip(omega),\n",
    "        kinematic(omega),\n",
    "        normal_stress(omega),\n",
    "        no_flux(omega),\n",
    "        surf_excess(omega),\n",
    "        tangential_stress(omega),\n",
    "        mass_balance(omega),\n",
    "    ], axis=0)"
   ]
  },
  {
   "cell_type": "markdown",
   "metadata": {},
   "source": [
    "### Solutions for Constants of Integration"
   ]
  },
  {
   "cell_type": "code",
   "execution_count": 29,
   "metadata": {},
   "outputs": [],
   "source": [
    "# Form linear system for the unknowns\n",
    "sys = form_equations(omega)\n",
    "forcing = sys[:, -1, :]"
   ]
  },
  {
   "cell_type": "code",
   "execution_count": 30,
   "metadata": {},
   "outputs": [],
   "source": [
    "# Compute unknowns\n",
    "sols = np.array([np.linalg.solve(sys[:, :-1, i], -forcing[:, i]) for i in range(2 * N)])"
   ]
  },
  {
   "cell_type": "code",
   "execution_count": 31,
   "metadata": {},
   "outputs": [
    {
     "name": "stdout",
     "output_type": "stream",
     "text": [
      "(200, 11)\n",
      "(12, 200)\n"
     ]
    }
   ],
   "source": [
    "print(sols.shape)\n",
    "print(psi_h(omega, 0).shape)"
   ]
  },
  {
   "cell_type": "markdown",
   "metadata": {},
   "source": [
    "### Test Against Analytical Solutions"
   ]
  },
  {
   "cell_type": "code",
   "execution_count": 32,
   "metadata": {},
   "outputs": [],
   "source": [
    "assert np.allclose(sols[:, 1], (sols[:, 0] * np.sinh(omega)) / (np.sinh(omega) - omega * np.exp(-omega)))"
   ]
  },
  {
   "cell_type": "markdown",
   "metadata": {},
   "source": [
    "### Expand Solutions in Terms of Unknown Parameters $\\omega = 0$"
   ]
  },
  {
   "cell_type": "code",
   "execution_count": 33,
   "metadata": {},
   "outputs": [],
   "source": [
    "omega_o = np.zeros(1)"
   ]
  },
  {
   "cell_type": "code",
   "execution_count": 34,
   "metadata": {},
   "outputs": [],
   "source": [
    "# Streamfunction\n",
    "def psi_o(y):\n",
    "    return to_arr({\n",
    "        \"A_h\": y**3,\n",
    "        \"B_h\": y**2,\n",
    "        \"C_h\": y,\n",
    "        \"D_h\": 1,\n",
    "    }, omega_o)\n",
    "\n",
    "def d_psi_o(y):\n",
    "    return to_arr({\n",
    "        \"A_h\": 3 * y**2,\n",
    "        \"B_h\": 2 * y,\n",
    "        \"C_h\": 1,\n",
    "    }, omega_o)\n",
    "\n",
    "def d2_psi_o(y):\n",
    "    return to_arr({\n",
    "        \"A_h\": 6 * y,\n",
    "        \"B_h\": 2,\n",
    "    }, omega_o)\n",
    "\n",
    "def d3_psi_o(y):\n",
    "    return to_arr({\n",
    "        \"A_h\": 6,\n",
    "    }, omega_o)"
   ]
  },
  {
   "cell_type": "code",
   "execution_count": 35,
   "metadata": {},
   "outputs": [],
   "source": [
    "# Bulk concentration\n",
    "def p_o_0(y):\n",
    "    eq_1 = to_arr({\n",
    "        \"E_h\": y,\n",
    "        \"F_h\": 1,\n",
    "    }, omega_o)\n",
    "    eq_2 = to_arr({\n",
    "        \"G_h\": np.sinh(np.sqrt(zeta) * y),\n",
    "        \"H_h\": np.cosh(np.sqrt(zeta) * y),\n",
    "    }, omega_o)\n",
    "\n",
    "    return np.array([eq_1, eq_2])\n",
    "\n",
    "def p_o_1(y):\n",
    "    eq_1 = ((B_1 * np.sqrt(zeta) * f_o) / 2) * to_arr({\n",
    "        \"const\": y * np.sinh(np.sqrt(zeta) * y),\n",
    "    }, omega_o)\n",
    "\n",
    "    return np.array([to_arr({}, omega_o), eq_1])\n",
    "\n",
    "def p_o(y):\n",
    "    return p_o_0(y) + p_o_1(y)"
   ]
  },
  {
   "cell_type": "code",
   "execution_count": 36,
   "metadata": {},
   "outputs": [],
   "source": [
    "def d_p_o_0(y):\n",
    "    eq_1 = to_arr({\n",
    "        \"E_h\": 1,\n",
    "        \"F_h\": 0,\n",
    "    }, omega_o)\n",
    "    eq_2 = np.sqrt(zeta) * to_arr({\n",
    "        \"G_h\": np.cosh(np.sqrt(zeta) * y),\n",
    "        \"H_h\": np.sinh(np.sqrt(zeta) * y),\n",
    "    }, omega_o)\n",
    "\n",
    "    return np.array([eq_1, eq_2])\n",
    "\n",
    "def d_p_o_1(y):\n",
    "    eq_1 = ((B_1 * zeta * f_o) / 2) * to_arr({\n",
    "        \"const\": (\n",
    "            np.sinh(np.sqrt(zeta) * y)\n",
    "            + y * np.sqrt(zeta) * np.cosh(np.sqrt(zeta) * y)\n",
    "        ),\n",
    "    }, omega_o)\n",
    "\n",
    "    return np.array([to_arr({}, omega_o), eq_1])\n",
    "\n",
    "def d_p_o(y):\n",
    "    return d_p_o_0(y) + d_p_o_1(y)"
   ]
  },
  {
   "cell_type": "code",
   "execution_count": 37,
   "metadata": {},
   "outputs": [],
   "source": [
    "eq_1 = to_arr({\n",
    "    \"E_h\": 0.5,\n",
    "    \"F_h\": 1,\n",
    "}, omega_o)\n",
    "\n",
    "eq_2 = (1 / np.sqrt(zeta)) * to_arr({\n",
    "    \"G_h\": np.cosh(np.sqrt(zeta)) - 1,\n",
    "    \"H_h\": np.sinh(np.sqrt(zeta)),\n",
    "}, omega_o)\n",
    "\n",
    "i_p_o_0 = np.array([eq_1, eq_2])\n",
    "\n",
    "eq_1 = ((B_1 * zeta * f_o) / 2) * to_arr({\n",
    "    \"const\": (\n",
    "        np.cosh(np.sqrt(zeta)) / np.sqrt(zeta)\n",
    "        - np.sinh(np.sqrt(zeta)) / zeta\n",
    "    ),\n",
    "}, omega_o)\n",
    "\n",
    "i_p_o_1 = np.array([to_arr({}, omega_o), eq_1])\n",
    "\n",
    "i_p_o = i_p_o_0 + i_p_o_1"
   ]
  },
  {
   "cell_type": "markdown",
   "metadata": {},
   "source": [
    "### Apply Boundary Conditions"
   ]
  },
  {
   "cell_type": "code",
   "execution_count": 38,
   "metadata": {},
   "outputs": [],
   "source": [
    "# No-slip, no-penetration conditions\n",
    "no_slip_o = np.array([d_psi_o(0), psi_o(0)])"
   ]
  },
  {
   "cell_type": "code",
   "execution_count": 39,
   "metadata": {},
   "outputs": [],
   "source": [
    "# Normal stress balance\n",
    "normal_stress_o = np.array([d3_psi_o(1)])"
   ]
  },
  {
   "cell_type": "code",
   "execution_count": 40,
   "metadata": {},
   "outputs": [],
   "source": [
    "# No-flux condition\n",
    "no_flux_o = d_p_o(0)"
   ]
  },
  {
   "cell_type": "code",
   "execution_count": 41,
   "metadata": {},
   "outputs": [],
   "source": [
    "# Kinetic flux\n",
    "S_vec = np.tile(to_arr({\"S_h\": 1}, omega_o), (2, 1, 1))\n",
    "eq_2 = p_o(1) + S_vec * d_w(1)[:, np.newaxis, np.newaxis]\n",
    "eq_3 = (1 / Delta) * np.tensordot(K @ U, eq_2, axes=1)\n",
    "\n",
    "gamma_tr_vec = to_arr({\n",
    "    \"gamma_tr_h\": 1,\n",
    "}, omega_o)\n",
    "gamma_ci_vec = to_arr({\n",
    "    \"gamma_ci_h\": 1,\n",
    "}, omega_o)\n",
    "eq_5 = -(K @ U @ w(1))[:, np.newaxis, np.newaxis] * np.tile((gamma_tr_vec + gamma_ci_vec), (2, 1, 1))\n",
    "\n",
    "eq_6 = -np.array([gamma_tr_vec, gamma_ci_vec])\n",
    "\n",
    "J_o = np.tensordot(B, eq_3 + eq_5 + eq_6, axes=1)"
   ]
  },
  {
   "cell_type": "code",
   "execution_count": 42,
   "metadata": {},
   "outputs": [],
   "source": [
    "# Surface excess concentration equations\n",
    "gamma_tr_vec = to_arr({\"gamma_tr_h\": 1}, omega_o)\n",
    "gamma_ci_vec = to_arr({\"gamma_ci_h\": 1}, omega_o)\n",
    "gamma_vec = np.array([gamma_tr_vec, gamma_ci_vec])\n",
    "\n",
    "eq_1 = -np.tensordot(P_s, J_o, axes=1)\n",
    "\n",
    "eq_2 = f_o * to_arr({\"const\": 1}, omega_o)\n",
    "eq_3 = gamma_vec + np.tile(eq_2, (2, 1, 1)) * gamma_0[:, np.newaxis, np.newaxis]\n",
    "eq_4 = np.tensordot(A_s, eq_3, axes=1)\n",
    "\n",
    "surf_excess_o = eq_1 + eq_4"
   ]
  },
  {
   "cell_type": "code",
   "execution_count": 43,
   "metadata": {},
   "outputs": [],
   "source": [
    "# Tangential stress balance\n",
    "tangential_stress_o = np.array([d2_psi_o(1)])"
   ]
  },
  {
   "cell_type": "code",
   "execution_count": 44,
   "metadata": {},
   "outputs": [],
   "source": [
    "# Mass balance\n",
    "S_vec = np.tile(to_arr({\"S_h\": 1}, omega_o), (2, 1, 1))\n",
    "eq_1 = d_p_o(1) + S_vec * d2_w(1)[:, np.newaxis, np.newaxis]\n",
    "lhs = k_tr * chi_tr * np.tensordot(U, eq_1, axes=1)\n",
    "\n",
    "rhs = -np.tensordot(P, J_o, axes=1)\n",
    "\n",
    "mass_balance_o = lhs - rhs"
   ]
  },
  {
   "cell_type": "code",
   "execution_count": 45,
   "metadata": {},
   "outputs": [],
   "source": [
    "# Integral conditions\n",
    "gamma_vec = to_arr({\n",
    "    \"gamma_tr_h\": 1,\n",
    "    \"gamma_ci_h\": 1,\n",
    "}, omega_o)\n",
    "\n",
    "eq_1 = to_arr({\n",
    "    \"S_h\": c_tr_0(1) + c_ci_0(1),\n",
    "}, omega_o)\n",
    "eq_2 = np.tensordot(U, i_p_o, axes=1)\n",
    "eq_3 = np.sum(eq_2, axis=0)\n",
    "\n",
    "integral_o = np.array([eq_1 + gamma_vec / (k_tr * chi_tr) + eq_3])"
   ]
  },
  {
   "cell_type": "code",
   "execution_count": 46,
   "metadata": {},
   "outputs": [],
   "source": [
    "# Test equation\n",
    "test_eq = np.array([to_arr({\"S_h\": 1}, omega_o)])"
   ]
  },
  {
   "cell_type": "code",
   "execution_count": 49,
   "metadata": {},
   "outputs": [],
   "source": [
    "# Collate equations\n",
    "sys_o = np.concatenate([\n",
    "    no_slip_o,\n",
    "    normal_stress_o,\n",
    "    no_flux_o,\n",
    "    surf_excess_o,\n",
    "    tangential_stress_o,\n",
    "    mass_balance_o,\n",
    "    integral_o,\n",
    "    # test_eq,\n",
    "], axis=0)[:, :, 0]\n",
    "forcing_o = sys_o[:, -1]"
   ]
  },
  {
   "cell_type": "code",
   "execution_count": 50,
   "metadata": {},
   "outputs": [
    {
     "ename": "LinAlgError",
     "evalue": "Singular matrix",
     "output_type": "error",
     "traceback": [
      "\u001b[1;31m---------------------------------------------------------------------------\u001b[0m",
      "\u001b[1;31mLinAlgError\u001b[0m                               Traceback (most recent call last)",
      "Cell \u001b[1;32mIn[50], line 2\u001b[0m\n\u001b[0;32m      1\u001b[0m \u001b[38;5;66;03m# Compute unknowns\u001b[39;00m\n\u001b[1;32m----> 2\u001b[0m sols_o \u001b[38;5;241m=\u001b[39m \u001b[43mnp\u001b[49m\u001b[38;5;241;43m.\u001b[39;49m\u001b[43mlinalg\u001b[49m\u001b[38;5;241;43m.\u001b[39;49m\u001b[43msolve\u001b[49m\u001b[43m(\u001b[49m\u001b[43msys_o\u001b[49m\u001b[43m[\u001b[49m\u001b[43m:\u001b[49m\u001b[43m,\u001b[49m\u001b[43m \u001b[49m\u001b[43m:\u001b[49m\u001b[38;5;241;43m-\u001b[39;49m\u001b[38;5;241;43m1\u001b[39;49m\u001b[43m]\u001b[49m\u001b[43m,\u001b[49m\u001b[43m \u001b[49m\u001b[38;5;241;43m-\u001b[39;49m\u001b[43mforcing_o\u001b[49m\u001b[43m)\u001b[49m\n",
      "File \u001b[1;32mc:\\Users\\niall\\OneDrive - Imperial College London\\Mathematics MSc\\Year 4\\M4R\\Python Code\\m4r_venv\\Lib\\site-packages\\numpy\\linalg\\linalg.py:409\u001b[0m, in \u001b[0;36msolve\u001b[1;34m(a, b)\u001b[0m\n\u001b[0;32m    407\u001b[0m signature \u001b[38;5;241m=\u001b[39m \u001b[38;5;124m'\u001b[39m\u001b[38;5;124mDD->D\u001b[39m\u001b[38;5;124m'\u001b[39m \u001b[38;5;28;01mif\u001b[39;00m isComplexType(t) \u001b[38;5;28;01melse\u001b[39;00m \u001b[38;5;124m'\u001b[39m\u001b[38;5;124mdd->d\u001b[39m\u001b[38;5;124m'\u001b[39m\n\u001b[0;32m    408\u001b[0m extobj \u001b[38;5;241m=\u001b[39m get_linalg_error_extobj(_raise_linalgerror_singular)\n\u001b[1;32m--> 409\u001b[0m r \u001b[38;5;241m=\u001b[39m \u001b[43mgufunc\u001b[49m\u001b[43m(\u001b[49m\u001b[43ma\u001b[49m\u001b[43m,\u001b[49m\u001b[43m \u001b[49m\u001b[43mb\u001b[49m\u001b[43m,\u001b[49m\u001b[43m \u001b[49m\u001b[43msignature\u001b[49m\u001b[38;5;241;43m=\u001b[39;49m\u001b[43msignature\u001b[49m\u001b[43m,\u001b[49m\u001b[43m \u001b[49m\u001b[43mextobj\u001b[49m\u001b[38;5;241;43m=\u001b[39;49m\u001b[43mextobj\u001b[49m\u001b[43m)\u001b[49m\n\u001b[0;32m    411\u001b[0m \u001b[38;5;28;01mreturn\u001b[39;00m wrap(r\u001b[38;5;241m.\u001b[39mastype(result_t, copy\u001b[38;5;241m=\u001b[39m\u001b[38;5;28;01mFalse\u001b[39;00m))\n",
      "File \u001b[1;32mc:\\Users\\niall\\OneDrive - Imperial College London\\Mathematics MSc\\Year 4\\M4R\\Python Code\\m4r_venv\\Lib\\site-packages\\numpy\\linalg\\linalg.py:112\u001b[0m, in \u001b[0;36m_raise_linalgerror_singular\u001b[1;34m(err, flag)\u001b[0m\n\u001b[0;32m    111\u001b[0m \u001b[38;5;28;01mdef\u001b[39;00m \u001b[38;5;21m_raise_linalgerror_singular\u001b[39m(err, flag):\n\u001b[1;32m--> 112\u001b[0m     \u001b[38;5;28;01mraise\u001b[39;00m LinAlgError(\u001b[38;5;124m\"\u001b[39m\u001b[38;5;124mSingular matrix\u001b[39m\u001b[38;5;124m\"\u001b[39m)\n",
      "\u001b[1;31mLinAlgError\u001b[0m: Singular matrix"
     ]
    }
   ],
   "source": [
    "# Compute unknowns\n",
    "sols_o = np.linalg.solve(sys_o[:, :-1], -forcing_o)"
   ]
  },
  {
   "cell_type": "markdown",
   "metadata": {},
   "source": [
    "### Test against analytic solutions"
   ]
  },
  {
   "cell_type": "code",
   "execution_count": null,
   "metadata": {},
   "outputs": [],
   "source": [
    "assert sols_o[1] == -1.5 * sols_o[0]  # B_h = -3/2 A_h\n",
    "assert abs(sols_o[4]) < eps  # E_h = 0\n",
    "assert abs(sols_o[6]) < eps  # G_h = 0"
   ]
  },
  {
   "cell_type": "markdown",
   "metadata": {},
   "source": [
    "### Solutions to First Order"
   ]
  },
  {
   "cell_type": "code",
   "execution_count": null,
   "metadata": {},
   "outputs": [],
   "source": [
    "def psi_f(y):\n",
    "    val_o = psi_o(y)\n",
    "    val_h = psi_h(omega, y)\n",
    "    return np.concatenate([\n",
    "        [val_o[:-1, 0] @ sols_o + val_o[-1, 0]],\n",
    "        np.einsum(\"ij,ji->i\", sols, val_h[:-1]) + val_h[-1],\n",
    "    ])\n",
    "\n",
    "def u_f(y):\n",
    "    val_o = d_psi_o(y)\n",
    "    val_h = d_psi_h(omega, y)\n",
    "    return np.concatenate([\n",
    "        [val_o[:-1, 0] @ sols_o + val_o[-1, 0]],\n",
    "        np.einsum(\"ij,ji->i\", sols, val_h[:-1] + val_h[-1]),\n",
    "    ])\n",
    "\n",
    "def v_f(y):\n",
    "    val_h = psi_h(omega, y)\n",
    "    return np.concatenate([\n",
    "        [0],\n",
    "        -1.j * omega * (np.einsum(\"ij,ji->i\", sols, val_h[:-1]) + val_h[-1]),\n",
    "    ])\n",
    "\n",
    "def p_f(y):\n",
    "    val_o = p_o(y)\n",
    "    val_h = p_h(omega, y)\n",
    "    return np.concatenate([\n",
    "        (val_o[:, :-1, 0] @ sols_o)[:, np.newaxis] + val_o[:, -1],\n",
    "        np.einsum(\"ijk,kji->ki\", np.tile(sols[:, :-1, np.newaxis], (1, 1, 2)), val_h[:, -1:, :]) + val_h[:, -1],\n",
    "    ], axis=1)\n",
    "\n",
    "def c_f(y):\n",
    "    return np.tensordot(U, p_f(y), axes=1)\n",
    "\n",
    "def c_tr_f(y):\n",
    "    return c_f(y)[0]\n",
    "\n",
    "def c_ci_f(y):\n",
    "    return c_f(y)[1]\n",
    "\n",
    "def gamma_tr_f():\n",
    "    return np.concatenate([\n",
    "        [sols_o[-3]],\n",
    "        sols[:, -3],\n",
    "    ])\n",
    "\n",
    "def gamma_ci_f():\n",
    "    return np.concatenate([\n",
    "        [sols_o[-2]],\n",
    "        sols[:, -2],\n",
    "    ])\n",
    "\n",
    "def S_f():\n",
    "    return np.concatenate([\n",
    "        [sols_o[-1]],\n",
    "        sols[:, -1],\n",
    "    ])"
   ]
  },
  {
   "cell_type": "code",
   "execution_count": null,
   "metadata": {},
   "outputs": [],
   "source": [
    "def invert(f):\n",
    "    def _(x, *args):\n",
    "        coeffs = f(*args)\n",
    "        return coeffs[0] + np.sum(coeffs[1:, np.newaxis] * np.exp(1.j * omega[:, np.newaxis] * (x + L)[np.newaxis, :]), axis=0)\n",
    "\n",
    "    return _"
   ]
  },
  {
   "cell_type": "code",
   "execution_count": null,
   "metadata": {},
   "outputs": [],
   "source": [
    "u = invert(u_f)\n",
    "v = invert(v_f)\n",
    "c_tr = invert(c_tr_f)\n",
    "c_ci = invert(c_ci_f)\n",
    "gamma_tr = invert(gamma_tr_f)\n",
    "gamma_ci = invert(gamma_ci_f)\n",
    "S = invert(S_f)"
   ]
  },
  {
   "cell_type": "code",
   "execution_count": null,
   "metadata": {},
   "outputs": [],
   "source": [
    "xx = np.linspace(-L, L, 100)\n",
    "yy = np.linspace(0, 1, 100)"
   ]
  },
  {
   "cell_type": "code",
   "execution_count": null,
   "metadata": {},
   "outputs": [],
   "source": [
    "uu = np.array([u(xx, y) for y in yy])\n",
    "vv = np.array([v(xx, y) for y in yy])\n",
    "cc_tr = np.array([c_tr(xx, y) for y in yy])\n",
    "cc_ci = np.array([c_ci(xx, y) for y in yy])\n",
    "\n",
    "ggamma_tr = gamma_tr(xx)\n",
    "ggamma_ci = gamma_ci(xx)\n",
    "SS = S(xx)"
   ]
  },
  {
   "cell_type": "code",
   "execution_count": null,
   "metadata": {},
   "outputs": [
    {
     "data": {
      "image/png": "[encoded data removed]",
      "text/plain": [
       "<Figure size 640x480 with 2 Axes>"
      ]
     },
     "metadata": {},
     "output_type": "display_data"
    }
   ],
   "source": [
    "plt.imshow(uu.real, extent=[-L, L, 0, 1], aspect=\"auto\")\n",
    "plt.colorbar()\n",
    "plt.show()"
   ]
  },
  {
   "cell_type": "code",
   "execution_count": null,
   "metadata": {},
   "outputs": [
    {
     "data": {
      "image/png": "[encoded data removed]",
      "text/plain": [
       "<Figure size 640x480 with 2 Axes>"
      ]
     },
     "metadata": {},
     "output_type": "display_data"
    }
   ],
   "source": [
    "plt.imshow(vv.real, extent=[-L, L, 0, 1], aspect=\"auto\")\n",
    "plt.colorbar()\n",
    "plt.show()"
   ]
  },
  {
   "cell_type": "code",
   "execution_count": null,
   "metadata": {},
   "outputs": [
    {
     "data": {
      "image/png": "[encoded data removed]",
      "text/plain": [
       "<Figure size 640x480 with 2 Axes>"
      ]
     },
     "metadata": {},
     "output_type": "display_data"
    }
   ],
   "source": [
    "plt.imshow(cc_tr.real, extent=[-L, L, 0, 1], aspect=\"auto\")\n",
    "plt.colorbar()\n",
    "plt.show()"
   ]
  },
  {
   "cell_type": "code",
   "execution_count": null,
   "metadata": {},
   "outputs": [
    {
     "data": {
      "image/png": "[encoded data removed]",
      "text/plain": [
       "<Figure size 640x480 with 2 Axes>"
      ]
     },
     "metadata": {},
     "output_type": "display_data"
    }
   ],
   "source": [
    "plt.imshow(c_ci_0(yy) + cc_ci.real, extent=[-L, L, 0, 1], aspect=\"auto\")\n",
    "plt.colorbar()\n",
    "plt.show()"
   ]
  },
  {
   "cell_type": "code",
   "execution_count": null,
   "metadata": {},
   "outputs": [
    {
     "data": {
      "image/png": "[encoded data removed]",
      "text/plain": [
       "<Figure size 640x480 with 1 Axes>"
      ]
     },
     "metadata": {},
     "output_type": "display_data"
    }
   ],
   "source": [
    "plt.plot(xx, ggamma_tr.real, label=\"gamma_tr\")\n",
    "plt.plot(xx, ggamma_ci.real, label=\"gamma_ci\")\n",
    "plt.plot(xx, SS.real, label=\"S\")\n",
    "plt.plot(xx, f_1(xx), label=\"f_1\")\n",
    "plt.legend()\n",
    "plt.show()\n"
   ]
  },
  {
   "cell_type": "code",
   "execution_count": null,
   "metadata": {},
   "outputs": [
    {
     "data": {
      "text/plain": [
       "(-2.6610137882686336+0j)"
      ]
     },
     "execution_count": 59,
     "metadata": {},
     "output_type": "execute_result"
    }
   ],
   "source": [
    "sols_o[-1]"
   ]
  },
  {
   "cell_type": "code",
   "execution_count": null,
   "metadata": {},
   "outputs": [],
   "source": [
    "gamma_vec = to_arr({\n",
    "    \"gamma_tr_h\": 1,\n",
    "    \"gamma_ci_h\": 1,\n",
    "}, omega_o)\n",
    "\n",
    "eq_1 = np.tensordot(U, i_p_o, axes=1)\n",
    "eq_2 = np.sum(eq_1, axis=0)\n",
    "\n",
    "integral_o = np.array([gamma_vec / (k_tr * chi_tr) + eq_2])"
   ]
  },
  {
   "cell_type": "code",
   "execution_count": null,
   "metadata": {},
   "outputs": [],
   "source": [
    "system = sys_o[:, :-1]"
   ]
  },
  {
   "cell_type": "code",
   "execution_count": null,
   "metadata": {},
   "outputs": [
    {
     "data": {
      "text/plain": [
       "(11,)"
      ]
     },
     "execution_count": 62,
     "metadata": {},
     "output_type": "execute_result"
    }
   ],
   "source": [
    "forcing_o.shape"
   ]
  },
  {
   "cell_type": "code",
   "execution_count": null,
   "metadata": {},
   "outputs": [
    {
     "data": {
      "text/plain": [
       "array([ 0.00000000e+00+0.j,  0.00000000e+00+0.j,  0.00000000e+00+0.j,\n",
       "        0.00000000e+00+0.j,  0.00000000e+00+0.j, -7.80594324e+01+0.j,\n",
       "        2.08253297e+01+0.j,  0.00000000e+00+0.j,  1.19019915e+02+0.j,\n",
       "       -8.22660531e+01+0.j, -1.62775305e-02+0.j])"
      ]
     },
     "execution_count": 63,
     "metadata": {},
     "output_type": "execute_result"
    }
   ],
   "source": [
    "forcing_o  # surf, mass, integral"
   ]
  },
  {
   "cell_type": "code",
   "execution_count": null,
   "metadata": {},
   "outputs": [
    {
     "data": {
      "text/plain": [
       "array([ 0.00000000e+00,  0.00000000e+00,  0.00000000e+00,  0.00000000e+00,\n",
       "        0.00000000e+00, -5.38721984e+02,  1.21091234e+02,  0.00000000e+00,\n",
       "        5.86024411e+02, -1.92044875e+02,  4.52143986e-01])"
      ]
     },
     "execution_count": 64,
     "metadata": {},
     "output_type": "execute_result"
    }
   ],
   "source": [
    "system = sys_o[:, :-1]  # Equations which depend on S\n",
    "system[:, -1].real"
   ]
  },
  {
   "cell_type": "code",
   "execution_count": null,
   "metadata": {},
   "outputs": [
    {
     "data": {
      "text/plain": [
       "(4, 5)"
      ]
     },
     "execution_count": 65,
     "metadata": {},
     "output_type": "execute_result"
    }
   ],
   "source": [
    "system = sys_o[:, :-1]\n",
    "system = system[5:, :]  # Equations with forcing\n",
    "system = np.vstack([system[:2, :], system[3:, :]])\n",
    "system = system[:, 5:]\n",
    "system = np.hstack([system[:, :1], system[:, 2:]])  # E, G = 0\n",
    "system = system[:-1, :]  # Remove integral condition\n",
    "system.shape"
   ]
  },
  {
   "cell_type": "code",
   "execution_count": null,
   "metadata": {},
   "outputs": [
    {
     "name": "stdout",
     "output_type": "stream",
     "text": [
      "[[-2.66332445e+03 -1.66046780e+05  1.33044847e+04  3.28048475e+03\n",
      "  -5.38721984e+02]\n",
      " [-2.85070835e+02  3.73231650e+04  1.68859224e+02  2.54809224e+02\n",
      "   1.21091234e+02]\n",
      " [ 2.66332445e+03  1.80625650e+05 -1.32944847e+04 -3.29448475e+03\n",
      "   5.86024411e+02]\n",
      " [ 2.85070835e+02 -5.91914695e+04 -1.83859224e+02 -2.33809224e+02\n",
      "  -1.92044875e+02]]\n"
     ]
    }
   ],
   "source": [
    "print(system.real)"
   ]
  },
  {
   "cell_type": "code",
   "execution_count": null,
   "metadata": {},
   "outputs": [
    {
     "data": {
      "text/plain": [
       "(2, 12, 1)"
      ]
     },
     "execution_count": 67,
     "metadata": {},
     "output_type": "execute_result"
    }
   ],
   "source": [
    "p_o(1).shape"
   ]
  },
  {
   "cell_type": "code",
   "execution_count": null,
   "metadata": {},
   "outputs": [],
   "source": [
    "eq_1 = -f_o * np.linalg.inv(M) @ A_s @ gamma_0"
   ]
  },
  {
   "cell_type": "code",
   "execution_count": null,
   "metadata": {},
   "outputs": [
    {
     "data": {
      "text/plain": [
       "(2, 12)"
      ]
     },
     "execution_count": 69,
     "metadata": {},
     "output_type": "execute_result"
    }
   ],
   "source": [
    "p_o(1)[:, :, 0].shape"
   ]
  },
  {
   "cell_type": "code",
   "execution_count": null,
   "metadata": {},
   "outputs": [
    {
     "data": {
      "text/plain": [
       "(11,)"
      ]
     },
     "execution_count": 70,
     "metadata": {},
     "output_type": "execute_result"
    }
   ],
   "source": [
    "sols_o.shape"
   ]
  },
  {
   "cell_type": "code",
   "execution_count": null,
   "metadata": {},
   "outputs": [],
   "source": [
    "eq_3 = p_o(1)[:, :-1, 0] @ sols_o + p_o(1)[:, -1, 0] + sols_o[-1] * d_w(1)"
   ]
  },
  {
   "cell_type": "code",
   "execution_count": null,
   "metadata": {},
   "outputs": [],
   "source": [
    "eq_2 = (1 / Delta) * np.linalg.inv(M) @ P_s @ B @ K @ U @ (eq_3)"
   ]
  },
  {
   "cell_type": "code",
   "execution_count": null,
   "metadata": {},
   "outputs": [],
   "source": [
    "test_gamma = -f_o * np.linalg.inv(M) @ A_s @ gamma_0 + (1 / Delta) * np.linalg.inv(M) @ P_s @ B @ K @ U @ (eq_3)"
   ]
  },
  {
   "cell_type": "code",
   "execution_count": null,
   "metadata": {},
   "outputs": [
    {
     "data": {
      "text/plain": [
       "array([-0.12604182+0.j,  0.86110869+0.j])"
      ]
     },
     "execution_count": 74,
     "metadata": {},
     "output_type": "execute_result"
    }
   ],
   "source": [
    "test_gamma"
   ]
  },
  {
   "cell_type": "code",
   "execution_count": null,
   "metadata": {},
   "outputs": [
    {
     "data": {
      "text/plain": [
       "((-0.12604181562463238+0j), (0.861108686920806+0j))"
      ]
     },
     "execution_count": 75,
     "metadata": {},
     "output_type": "execute_result"
    }
   ],
   "source": [
    "sols_o[8], sols_o[9]"
   ]
  },
  {
   "cell_type": "code",
   "execution_count": null,
   "metadata": {},
   "outputs": [],
   "source": []
  }
 ],
 "metadata": {
  "kernelspec": {
   "display_name": "m4r_venv",
   "language": "python",
   "name": "python3"
  },
  "language_info": {
   "codemirror_mode": {
    "name": "ipython",
    "version": 3
   },
   "file_extension": ".py",
   "mimetype": "text/x-python",
   "name": "python",
   "nbconvert_exporter": "python",
   "pygments_lexer": "ipython3",
   "version": "3.11.1"
  }
 },
 "nbformat": 4,
 "nbformat_minor": 2
}
