{
 "cells": [
  {
   "cell_type": "code",
   "execution_count": 1,
   "metadata": {},
   "outputs": [],
   "source": [
    "import numpy as np\n",
    "import matplotlib.pyplot as plt"
   ]
  },
  {
   "cell_type": "code",
   "execution_count": 2,
   "metadata": {},
   "outputs": [],
   "source": [
    "# Numerical parameters\n",
    "eps = 1e-12"
   ]
  },
  {
   "cell_type": "markdown",
   "metadata": {},
   "source": [
    "## Global Parameters"
   ]
  },
  {
   "cell_type": "code",
   "execution_count": 69,
   "metadata": {},
   "outputs": [
    {
     "name": "stdout",
     "output_type": "stream",
     "text": [
      "30.0 30.0\n"
     ]
    }
   ],
   "source": [
    "# Non-dimensional parameters\n",
    "# Damkohler numbers\n",
    "Dam_tr = 1.0\n",
    "Dam_ci = 1.4\n",
    "\n",
    "# Peclet numbers\n",
    "Pen_tr = 10.0\n",
    "Pen_ci = 15.0\n",
    "\n",
    "# Biot numbers\n",
    "Bit_tr = 1.0e3\n",
    "Bit_ci = 3.33\n",
    "\n",
    "# Marangoni numbers\n",
    "Man = 1.03\n",
    "\n",
    "# Switching rate\n",
    "k_tr = 1.0\n",
    "k_ci = 30 * k_tr\n",
    "\n",
    "chi_tr = 30.0\n",
    "chi_ci = 1.0\n",
    "\n",
    "print(k_tr * chi_tr, k_ci * chi_ci)\n",
    "\n",
    "assert k_tr * chi_tr == k_ci * chi_ci"
   ]
  },
  {
   "cell_type": "code",
   "execution_count": 70,
   "metadata": {},
   "outputs": [],
   "source": [
    "# Other parameters\n",
    "# Length of the cell\n",
    "L = 1.0"
   ]
  },
  {
   "cell_type": "markdown",
   "metadata": {},
   "source": [
    "## Leading Order"
   ]
  },
  {
   "cell_type": "markdown",
   "metadata": {},
   "source": [
    "### Setting Additional Parameters"
   ]
  },
  {
   "cell_type": "code",
   "execution_count": 81,
   "metadata": {},
   "outputs": [],
   "source": [
    "# Setup required parameters\n",
    "alpha = Dam_ci / Dam_tr\n",
    "eta = Pen_tr / Pen_ci\n",
    "zeta = Pen_tr * Dam_tr + Pen_ci * Dam_ci\n",
    "beta = Bit_tr / Bit_ci\n",
    "xi = Pen_ci * Bit_tr\n",
    "nu = Dam_tr / Bit_tr"
   ]
  },
  {
   "cell_type": "markdown",
   "metadata": {},
   "source": [
    "### Apply Boundary Conditions"
   ]
  },
  {
   "cell_type": "code",
   "execution_count": 82,
   "metadata": {},
   "outputs": [],
   "source": [
    "# Define matrices\n",
    "U = np.array([\n",
    "    [alpha, eta],\n",
    "    [1, -1]\n",
    "])"
   ]
  },
  {
   "cell_type": "code",
   "execution_count": 83,
   "metadata": {},
   "outputs": [],
   "source": [
    "# Quadratic coefficients\n",
    "a = (\n",
    "    ((eta - 1) / np.sqrt(zeta)) * np.sinh(np.sqrt(zeta)) * np.cosh(np.sqrt(zeta))\n",
    "    * (eta * (nu * (1 + alpha) * beta + 1) * k_tr - (nu * (1 + alpha) + 1) * k_ci)\n",
    ")\n",
    "\n",
    "b = (\n",
    "    (1 + alpha) * np.cosh(np.sqrt(zeta))\n",
    "    * (eta * (nu * (1 + alpha) * beta + 1) * k_tr - (nu * (1 + alpha) + 1) * k_ci)\n",
    "    + ((eta - 1) / np.sqrt(zeta)) * np.sinh(np.sqrt(zeta))\n",
    "    * (alpha * (nu * (1 + alpha) * beta + 1) * k_tr + (nu * (1 + alpha) + 1) * k_ci)\n",
    ")\n",
    "\n",
    "c = (1 + alpha) * (alpha * (nu * (1 + alpha) * beta + 1) * k_tr + (nu * (1 + alpha) + 1) * k_ci)\n",
    "\n",
    "d = (\n",
    "    ((eta - 1) / np.sqrt(zeta)) * np.sinh(np.sqrt(zeta))\n",
    "    + (1 / (chi_tr * k_tr) - 1 / (2 * L)) * np.cosh(np.sqrt(zeta))\n",
    "    * (eta * (nu * (1 + alpha) * beta + 1) * k_tr - (nu * (1 + alpha) + 1) * k_ci)\n",
    ")\n",
    "\n",
    "e = (\n",
    "    (1 + alpha)\n",
    "    + (1 / (chi_tr * k_tr) - 1 / (2 * L))\n",
    "    * (alpha * (nu * (1 + alpha) * beta + 1) * k_tr + (nu * (1 + alpha) + 1) * k_ci)\n",
    ")\n",
    "\n",
    "f = -1 / (2 * L)\n",
    "\n",
    "p = (\n",
    "    chi_ci * k_ci * np.sqrt(zeta) * np.sinh(np.sqrt(zeta)) * np.cosh(np.sqrt(zeta))\n",
    "    * (\n",
    "        ((1 + alpha) / xi) * (k_tr * beta * eta - k_ci)\n",
    "        + ((alpha + eta) / zeta) * (k_tr * eta - k_ci)\n",
    "    )\n",
    ")\n",
    "\n",
    "q = (\n",
    "    chi_ci * k_ci * np.sqrt(zeta) * np.sinh(np.sqrt(zeta))\n",
    "    * (\n",
    "        alpha * k_tr * (((1 + alpha) * beta) / xi + (alpha + eta) / zeta)\n",
    "        + k_ci * ((1 + alpha) / xi + (alpha + eta) / zeta)\n",
    "    )\n",
    ")\n",
    "\n",
    "r = (\n",
    "    chi_ci * k_ci * np.sqrt(zeta) * np.sinh(np.sqrt(zeta))\n",
    "    * ((1 + alpha * beta) / xi + (alpha + eta) / zeta)\n",
    "    + np.cosh(np.sqrt(zeta)) * (eta * k_tr + alpha * k_ci)\n",
    ")\n",
    "\n",
    "s = alpha * (k_tr - k_ci)"
   ]
  },
  {
   "cell_type": "code",
   "execution_count": 84,
   "metadata": {},
   "outputs": [
    {
     "name": "stdout",
     "output_type": "stream",
     "text": [
      "[ 1.22733777e+12  2.48794921e-03 -9.26361291e-04  5.82728235e-04]\n"
     ]
    }
   ],
   "source": [
    "# Solve for B_1\n",
    "poly = np.poly1d([\n",
    "    a * q**2 - b * p * q + c * p**2,\n",
    "    2 * a * q * s - b * p * s - b * q * r + 2 * c * p * r + d * q**2 - e * p * q,\n",
    "    a * s**2 - b * r * s + c * r**2 + 2 * d * q * s - e * p * s - e * q * r + f * q**2,\n",
    "    d * s**2 - e * r * s + 2 * f * q * s,\n",
    "    f * s**2\n",
    "])\n",
    "roots = poly.r\n",
    "print(roots)"
   ]
  },
  {
   "cell_type": "code",
   "execution_count": 86,
   "metadata": {},
   "outputs": [],
   "source": [
    "# Select a root\n",
    "B_1 = roots[2]"
   ]
  },
  {
   "cell_type": "code",
   "execution_count": 87,
   "metadata": {},
   "outputs": [],
   "source": [
    "# Solve for B_0\n",
    "B_0 = -(p * B_1**2 + r * B_1) / (q * B_1 + s)"
   ]
  },
  {
   "cell_type": "markdown",
   "metadata": {},
   "source": [
    "### Solutions to Leading Order"
   ]
  },
  {
   "cell_type": "code",
   "execution_count": 89,
   "metadata": {},
   "outputs": [
    {
     "name": "stdout",
     "output_type": "stream",
     "text": [
      "9.409000604407067 15.459152702576988\n"
     ]
    }
   ],
   "source": [
    "# Bulk concentrations\n",
    "def w(y):\n",
    "    return np.array([B_0, B_1 * np.cosh(y * np.sqrt(zeta))])\n",
    "\n",
    "def c_0(y):\n",
    "    return U @ w(y)\n",
    "\n",
    "def c_tr_0(y):\n",
    "    return alpha * B_0 + eta * B_1 * np.cosh(y * np.sqrt(zeta))\n",
    "\n",
    "def c_ci_0(y):\n",
    "    return B_0 - B_1 * np.cosh(y * np.sqrt(zeta))\n",
    "\n",
    "# Surface concentrations\n",
    "Delta = nu * (1 + alpha) * (beta * k_tr * c_tr_0(1) + k_ci * c_ci_0(1)) + k_tr * c_tr_0(1) + k_ci * c_ci_0(1) + 1\n",
    "\n",
    "gamma_0 = (\n",
    "    (1 / Delta) * (nu * (beta * k_tr * c_tr_0(1) + k_ci * c_ci_0(1)) * np.array([alpha, 1])\n",
    "    + np.array([k_tr * c_tr_0(1), k_ci * c_ci_0(1)]))\n",
    ")\n",
    "\n",
    "gamma_tr_0 = (nu * (beta * k_tr * c_tr_0(1) + k_ci * c_ci_0(1)) * alpha + k_tr * c_tr_0(1)) / Delta\n",
    "\n",
    "gamma_ci_0 = (nu * (beta * k_tr * c_tr_0(1) + k_ci * c_ci_0(1)) + k_ci * c_ci_0(1)) / Delta\n",
    "\n",
    "assert abs(gamma_tr_0 - gamma_0[0]) < eps\n",
    "assert abs(gamma_ci_0 - gamma_0[1]) < eps\n",
    "\n",
    "assert abs((gamma_tr_0 + gamma_ci_0) - (1 - 1 / Delta)) < eps"
   ]
  },
  {
   "cell_type": "markdown",
   "metadata": {},
   "source": [
    "### Solution Plots to Leading Order"
   ]
  },
  {
   "cell_type": "code",
   "execution_count": 90,
   "metadata": {},
   "outputs": [
    {
     "data": {
      "image/png": "[encoded data removed]",
      "text/plain": [
       "<Figure size 640x480 with 1 Axes>"
      ]
     },
     "metadata": {},
     "output_type": "display_data"
    }
   ],
   "source": [
    "yy = np.linspace(0, 1, 100)\n",
    "\n",
    "plt.plot(yy, c_tr_0(yy), label=\"c_tr\")\n",
    "plt.plot(yy, c_ci_0(yy), label=\"c_ci\")\n",
    "plt.legend()\n",
    "plt.show()"
   ]
  },
  {
   "cell_type": "markdown",
   "metadata": {},
   "source": [
    "## First Order"
   ]
  },
  {
   "cell_type": "code",
   "execution_count": null,
   "metadata": {},
   "outputs": [],
   "source": []
  },
  {
   "cell_type": "markdown",
   "metadata": {},
   "source": [
    "### Apply Boundary Conditions"
   ]
  },
  {
   "cell_type": "code",
   "execution_count": null,
   "metadata": {},
   "outputs": [],
   "source": [
    "# Define matrices\n",
    "A_s = np.array([\n",
    "    [Pen_tr_s * Dam_tr, -Pen_tr_s * Dam_ci],\n",
    "    [-Pen_ci_s * Dam_tr, Pen_ci_s * Dam_ci]\n",
    "])\n",
    "\n",
    "P_s = np.array([\n",
    "    [Pen_tr_s, 0],\n",
    "    [0, Pen_ci_s]\n",
    "])\n",
    "\n",
    "B = np.array([\n",
    "    [Bit_tr, 0],\n",
    "    [0, Bit_ci]\n",
    "])\n",
    "\n",
    "K = np.array([\n",
    "    [k_tr, 0],\n",
    "    [0, k_ci]\n",
    "])\n",
    "\n",
    "M = A_s + P_s @ B @ np.array([\n",
    "    [k_tr * c_tr_0(1) + 1, k_tr * c_tr_0(1)],\n",
    "    [k_ci * c_ci_0(1), k_ci * c_ci_0(1) + 1]\n",
    "])\n",
    "\n",
    "I = np.eye(2)"
   ]
  },
  {
   "cell_type": "code",
   "execution_count": null,
   "metadata": {},
   "outputs": [],
   "source": [
    "# Define coefficients for bulk concentration\n",
    "def a_p(omega):\n",
    "    return (1 / (2 * omega * np.sqrt(zeta) + zeta)) * A_h(omega)\n",
    "\n",
    "def b_p(omega):\n",
    "    return (\n",
    "        (1 / (2 * omega * np.sqrt(zeta) + zeta)**2)\n",
    "        * (\n",
    "            (2 * omega * np.sqrt(zeta) + zeta) * B_h(omega)\n",
    "            - 2 * (omega + np.sqrt(zeta)) * A_h(omega)\n",
    "        )\n",
    "    )\n",
    "\n",
    "def c_p(omega):\n",
    "    return (1 / (2 * omega * np.sqrt(zeta) - zeta)) * A_h(omega)\n",
    "\n",
    "def d_p(omega):\n",
    "    return (\n",
    "        (1 / (2 * omega * np.sqrt(zeta) - zeta)**2)\n",
    "        * (\n",
    "            (2 * omega * np.sqrt(zeta) - zeta) * B_h(omega)\n",
    "            + 2 * (omega - np.sqrt(zeta)) * A_h(omega)\n",
    "        )\n",
    "    )\n",
    "\n",
    "def e_p(omega):\n",
    "    return (\n",
    "        (1 / (2 * omega * np.sqrt(zeta) - zeta))\n",
    "        * (A_h(omega) + 2 * omega * B_h(omega))\n",
    "    )\n",
    "\n",
    "def f_p(omega):\n",
    "    return (\n",
    "        (1 / (2 * omega * np.sqrt(zeta) - zeta)**2)\n",
    "        * (\n",
    "            (2 * omega * np.sqrt(zeta) - zeta) * B_h(omega)\n",
    "            - 2 * (omega - np.sqrt(zeta)) * (A_h(omega) + 2 * omega * B_h(omega))\n",
    "        )\n",
    "    )\n",
    "\n",
    "def g_p(omega):\n",
    "    return (\n",
    "        (1 / (2 * omega * np.sqrt(zeta) + zeta))\n",
    "        * (A_h(omega) + 2 * omega * B_h(omega))\n",
    "    )\n",
    "\n",
    "def h_p(omega):\n",
    "    return (\n",
    "        (1 / (2 * omega * np.sqrt(zeta) + zeta)**2)\n",
    "        * (\n",
    "            (2 * omega * np.sqrt(zeta) + zeta) * B_h(omega)\n",
    "            + 2 * (omega + np.sqrt(zeta)) * (A_h(omega) + 2 * omega * B_h(omega))\n",
    "        )\n",
    "    )"
   ]
  },
  {
   "cell_type": "code",
   "execution_count": null,
   "metadata": {},
   "outputs": [],
   "source": [
    "# Constants of Integration\n",
    "def A_h(omega):\n",
    "    return (\n",
    "        -(c_9 / a_9) * (1 - 4 * (np.sinh(2 * omega) - omega * np.exp(-2 * omega)) / (\n",
    "            1.j * a_9 * (1 - Man * np.log(Delta)) * (np.sinh(omega) - omega * np.exp(-omega))\n",
    "            + 4 * (np.sinh(2 * omega) - omega * np.exp(-2 * omega))\n",
    "        ))\n",
    "    )\n",
    "\n",
    "def B_h(omega):\n",
    "    return (A_h(omega) * np.sinh(omega)) / (np.sinh(omega) - omega * np.exp(-omega))\n",
    "\n",
    "def E_h(omega):\n",
    "    return (\n",
    "        ((1.j * omega * np.sqrt(zeta) * B_1 * Pen_ci) / (2 * (alpha + eta)))\n",
    "        * (\n",
    "            a_p(omega) + c_p(omega) + e_p(omega) + g_p(omega)\n",
    "            + (omega + np.sqrt(zeta)) * (b_p(omega) - h_p(omega))\n",
    "            + (omega - np.sqrt(zeta)) * (d_p(omega) - f_p(omega))\n",
    "        ) * ((eta * (eta - 1)) / omega)\n",
    "    )\n",
    "\n",
    "def G_h(omega):\n",
    "    return (\n",
    "        ((1.j * omega * np.sqrt(zeta) * B_1 * Pen_ci) / (2 * (alpha + eta)))\n",
    "        * (\n",
    "            a_p(omega) + c_p(omega) + e_p(omega) + g_p(omega)\n",
    "            + (omega + np.sqrt(zeta)) * (b_p(omega) - h_p(omega))\n",
    "            + (omega - np.sqrt(zeta)) * (d_p(omega) - f_p(omega))\n",
    "        ) * ((alpha + eta**2) / np.sqrt(zeta + omega**2))\n",
    "    )"
   ]
  },
  {
   "cell_type": "markdown",
   "metadata": {},
   "source": [
    "### Solutions to First Order in Phase-Space"
   ]
  },
  {
   "cell_type": "code",
   "execution_count": null,
   "metadata": {},
   "outputs": [],
   "source": [
    "# Streamfunction\n",
    "def psi_h(omega, y):\n",
    "    return (\n",
    "        2 * (A_h * y + B_h) * np.sinh(omega * y)\n",
    "        - 2 * B_h * omega * y * np.exp(-omega * y)\n",
    "    )\n",
    "\n",
    "# Bulk concentration\n",
    "def p_h(omega, y):\n",
    "    return (\n",
    "        np.array([\n",
    "            E_h(omega) * np.sinh(omega * y) + F_h(omega) * np.cosh(omega * y),\n",
    "            G_h(omega) * np.sinh(np.sqrt(zeta + omega**2) * y) + H_h(omega) * np.cosh(np.sqrt(zeta + omega**2) * y)\n",
    "        ])\n",
    "        + f_h * np.array(\n",
    "            -B_0,\n",
    "            -B_1 * (1 + zeta / omega**2) * np.cosh(np.sqrt(zeta) * y)\n",
    "        )\n",
    "        -((1.j * omega * np.sqrt(zeta) * B_1 * Pen_ci) / (2 * (alpha + eta))) * np.array(\n",
    "            eta * (eta - 1), alpha + eta**2\n",
    "        ) * (\n",
    "            ()\n",
    "        )\n",
    "    )\n",
    "\n",
    "# Surface excess\n",
    "def gamma_1(omega):\n",
    "    return (\n",
    "        -np.linalg.inv(M + omega**2 * I) @ (\n",
    "            f_h * A_s + 1.j * omega * d_psi_h(omega, 1) * P_s\n",
    "        ) @ gamma_0\n",
    "        + (1 / Delta) * np.linalg.inv(M + omega**2 * I) @ P_s @ B @ K @ U @ (\n",
    "            p_h + S_h * d_w(1)\n",
    "        )\n",
    "    )"
   ]
  }
 ],
 "metadata": {
  "kernelspec": {
   "display_name": "m4r_venv",
   "language": "python",
   "name": "python3"
  },
  "language_info": {
   "codemirror_mode": {
    "name": "ipython",
    "version": 3
   },
   "file_extension": ".py",
   "mimetype": "text/x-python",
   "name": "python",
   "nbconvert_exporter": "python",
   "pygments_lexer": "ipython3",
   "version": "3.11.1"
  }
 },
 "nbformat": 4,
 "nbformat_minor": 2
}
